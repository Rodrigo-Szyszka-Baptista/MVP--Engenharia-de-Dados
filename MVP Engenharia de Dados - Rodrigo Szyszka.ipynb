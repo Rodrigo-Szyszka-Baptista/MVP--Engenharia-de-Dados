{
 "cells": [
  {
   "cell_type": "code",
   "execution_count": 0,
   "metadata": {
    "application/vnd.databricks.v1+cell": {
     "cellMetadata": {},
     "inputWidgets": {},
     "nuid": "21c6e8ac-619a-48bd-8148-6b0dbd7fe5ff",
     "showTitle": false,
     "tableResultSettingsMap": {},
     "title": ""
    }
   },
   "outputs": [],
   "source": [
    "## Objetivos\n",
    "\n",
    "O objetivo deste trabalho é produzir uma análise detalhada sobre o comportamento dos preços dos combustíveis no Brasil. Para garantir uma visão mais ampla e evitar distorções causadas por variações momentâneas, foi escolhido um período extenso de observação: de 2014 até 2024. Esse recorte temporal permite avaliar, por exemplo, o impacto da pandemia da COVID-19 nos preços dos combustíveis e identificar tendências de longo prazo.\n",
    "\n",
    "As principais perguntas que nortearam a análise foram:\n",
    "\n",
    "Como evoluíram os preços dos combustíveis ao longo dos anos?\n",
    "\n",
    "Existe muita variação de preços entre estados e postos?\n",
    "\n",
    "Quais estados apresentam os preços médios mais altos ou mais baixos?\n",
    "\n",
    "Qual bandeira tende a ter os menores preços?\n",
    "\n",
    "Qual é a relação histórica entre os preços do etanol e da gasolina?\n",
    "\n",
    "Existe alguma tendência sazonal nos preços (por mês ou semestre)?\n",
    "\n",
    "Os anos eleitorais influenciam os preços dos combustíveis?\n"
   ]
  },
  {
   "cell_type": "code",
   "execution_count": 0,
   "metadata": {
    "application/vnd.databricks.v1+cell": {
     "cellMetadata": {},
     "inputWidgets": {},
     "nuid": "2b2ce709-0765-443a-9417-3dfdbc8dfdb3",
     "showTitle": false,
     "tableResultSettingsMap": {},
     "title": ""
    }
   },
   "outputs": [],
   "source": [
    "## Origem dos dados\n",
    "\n",
    "Os arquivos foram obtidos manualmente, respeitando a organização semestral publicada pela ANP.\n",
    "https://www.gov.br/anp/pt-br/centrais-de-conteudo/dados-abertos/serie-historica-de-precos-de-combustiveis\n",
    "\n",
    "Os arquivos foram obtidos manualmente, respeitando a organização semestral publicada pela ANP. Para facilitar a automatização do carregamento e o controle da base no ambiente Databricks, os arquivos foram renomeados no seguinte padrão:\n",
    "    Ano-Semestre.csv\n",
    "\n",
    "Essa renomeação simples viabilizou a iteração em loop na coleta dos dados dentro do notebook, contribuindo para uma estrutura de pipeline mais eficiente.\n",
    "\n"
   ]
  },
  {
   "cell_type": "code",
   "execution_count": 0,
   "metadata": {
    "application/vnd.databricks.v1+cell": {
     "cellMetadata": {},
     "inputWidgets": {},
     "nuid": "8973b0e6-5460-4962-a5c3-66384adf5f2b",
     "showTitle": false,
     "tableResultSettingsMap": {},
     "title": ""
    }
   },
   "outputs": [],
   "source": [
    "1. Coleta e Importação dos Dados\n",
    "Carregamento dos arquivos CSV semestrais de 2014 a 2024, leitura em DataFrames e concatenação em uma base unificada.\n",
    "\n",
    "2. Limpeza e Transformação\n",
    "Conversão de datas, padronização de valores, criação de colunas auxiliares (ano, mês, semestre).\n",
    "\n",
    "3. Análise de Qualidade dos Dados\n",
    "Detecção de nulos, outliers, remoção de produtos irrelevantes (ex: ETANO).\n",
    "\n",
    "4. Evolução dos Preços por Ano e Produto\n",
    "Gráfico de linha mostrando como os preços variaram ao longo da década para cada combustível.\n",
    "\n",
    "5. Diferença e Variação dos Preços dos Combustíveis\n",
    "Análise da dispersão de preços de cada produto analisando a dispersão dos valores\n",
    "\n",
    "6. Diferença de Preços entre Estados\n",
    "Tabela com os estados que apresentaram os menores e maiores preços médios por produto e por ano.\n",
    "\n",
    "7. Comparação de Preços entre as Bandeiras\n",
    "Média e desvio padrão de preços por distribuidora (bandeira) para cada combustível. Identificação das mais baratas e caras.\n",
    "\n",
    "8. Relação Etanol / Gasolina ao Longo dos Anos\n",
    "Gráfico mostrando a proporção entre os preços médios de etanol e gasolina, comparando com a linha de 70%.\n",
    "\n",
    "9. Tendência Sazonal dos Preços\n",
    "Visualização da variação média mensal dos combustíveis. Verificação de sazonalidade.\n",
    "\n",
    "10. Efeito das Eleições na Variação de Preço\n",
    "Comparação entre anos eleitorais e não-eleitorais para o segundo semestre. Tabela com diferenças médias.\n"
   ]
  },
  {
   "cell_type": "code",
   "execution_count": 0,
   "metadata": {
    "application/vnd.databricks.v1+cell": {
     "cellMetadata": {
      "byteLimit": 2048000,
      "rowLimit": 10000
     },
     "inputWidgets": {},
     "nuid": "2ba2fbbe-9077-46dd-a504-7c665417f881",
     "showTitle": false,
     "tableResultSettingsMap": {},
     "title": ""
    }
   },
   "outputs": [
    {
     "output_type": "stream",
     "name": "stdout",
     "output_type": "stream",
     "text": [
      "✅ Carregado com sucesso: /Volumes/main/default/mvp/2014-01.csv\n✅ Carregado com sucesso: /Volumes/main/default/mvp/2014-02.csv\n✅ Carregado com sucesso: /Volumes/main/default/mvp/2015-01.csv\n✅ Carregado com sucesso: /Volumes/main/default/mvp/2015-02.csv\n✅ Carregado com sucesso: /Volumes/main/default/mvp/2016-01.csv\n✅ Carregado com sucesso: /Volumes/main/default/mvp/2016-02.csv\n✅ Carregado com sucesso: /Volumes/main/default/mvp/2017-01.csv\n✅ Carregado com sucesso: /Volumes/main/default/mvp/2017-02.csv\n✅ Carregado com sucesso: /Volumes/main/default/mvp/2018-01.csv\n✅ Carregado com sucesso: /Volumes/main/default/mvp/2018-02.csv\n✅ Carregado com sucesso: /Volumes/main/default/mvp/2019-01.csv\n✅ Carregado com sucesso: /Volumes/main/default/mvp/2019-02.csv\n✅ Carregado com sucesso: /Volumes/main/default/mvp/2020-01.csv\n✅ Carregado com sucesso: /Volumes/main/default/mvp/2020-02.csv\n✅ Carregado com sucesso: /Volumes/main/default/mvp/2021-01.csv\n✅ Carregado com sucesso: /Volumes/main/default/mvp/2021-02.csv\n✅ Carregado com sucesso: /Volumes/main/default/mvp/2022-01.csv\n✅ Carregado com sucesso: /Volumes/main/default/mvp/2022-02.csv\n✅ Carregado com sucesso: /Volumes/main/default/mvp/2023-01.csv\n✅ Carregado com sucesso: /Volumes/main/default/mvp/2023-02.csv\n✅ Carregado com sucesso: /Volumes/main/default/mvp/2024-01.csv\n✅ Carregado com sucesso: /Volumes/main/default/mvp/2024-02.csv\n"
     ]
    },
    {
     "output_type": "display_data",
     "data": {
      "text/html": [
       "<style scoped>\n",
       "  .table-result-container {\n",
       "    max-height: 300px;\n",
       "    overflow: auto;\n",
       "  }\n",
       "  table, th, td {\n",
       "    border: 1px solid black;\n",
       "    border-collapse: collapse;\n",
       "  }\n",
       "  th, td {\n",
       "    padding: 5px;\n",
       "  }\n",
       "  th {\n",
       "    text-align: left;\n",
       "  }\n",
       "</style><div class='table-result-container'><table class='table-result'><thead style='background-color: white'><tr><th>ï»¿Regiao - Sigla</th><th>Estado - Sigla</th><th>Municipio</th><th>Revenda</th><th>CNPJ da Revenda</th><th>Nome da Rua</th><th>Numero Rua</th><th>Complemento</th><th>Bairro</th><th>Cep</th><th>Produto</th><th>Data da Coleta</th><th>Valor de Venda</th><th>Valor de Compra</th><th>Unidade de Medida</th><th>Bandeira</th><th>arquivo_origem</th><th>Regiao - Sigla</th></tr></thead><tbody><tr><td>SE</td><td>SP</td><td>GUARULHOS</td><td>AUTO POSTO SAKAMOTO LTDA</td><td> 49.051.667/0001-02</td><td>RODOVIA PRESIDENTE DUTRA</td><td>S/N</td><td>KM 210,5-SENT SP/RJ</td><td>BONSUCESSO</td><td>07178-580</td><td>GASOLINA</td><td>02/01/2014</td><td>2,899</td><td>null</td><td>R$ / litro</td><td>PETROBRAS DISTRIBUIDORA S.A.</td><td>2014-01</td><td>null</td></tr><tr><td>SE</td><td>SP</td><td>GUARULHOS</td><td>AUTO POSTO SAKAMOTO LTDA</td><td> 49.051.667/0001-02</td><td>RODOVIA PRESIDENTE DUTRA</td><td>S/N</td><td>KM 210,5-SENT SP/RJ</td><td>BONSUCESSO</td><td>07178-580</td><td>ETANOL</td><td>02/01/2014</td><td>1,949</td><td>null</td><td>R$ / litro</td><td>PETROBRAS DISTRIBUIDORA S.A.</td><td>2014-01</td><td>null</td></tr><tr><td>SE</td><td>SP</td><td>GUARULHOS</td><td>AUTO POSTO SAKAMOTO LTDA</td><td> 49.051.667/0001-02</td><td>RODOVIA PRESIDENTE DUTRA</td><td>S/N</td><td>KM 210,5-SENT SP/RJ</td><td>BONSUCESSO</td><td>07178-580</td><td>DIESEL</td><td>02/01/2014</td><td>2,399</td><td>null</td><td>R$ / litro</td><td>PETROBRAS DISTRIBUIDORA S.A.</td><td>2014-01</td><td>null</td></tr><tr><td>SE</td><td>SP</td><td>GUARULHOS</td><td>AUTO POSTO SAKAMOTO LTDA</td><td> 49.051.667/0001-02</td><td>RODOVIA PRESIDENTE DUTRA</td><td>S/N</td><td>KM 210,5-SENT SP/RJ</td><td>BONSUCESSO</td><td>07178-580</td><td>DIESEL S10</td><td>02/01/2014</td><td>2,569</td><td>null</td><td>R$ / litro</td><td>PETROBRAS DISTRIBUIDORA S.A.</td><td>2014-01</td><td>null</td></tr><tr><td>SE</td><td>SP</td><td>GUARULHOS</td><td>AUTO POSTO SAKAMOTO LTDA</td><td> 49.051.667/0001-02</td><td>RODOVIA PRESIDENTE DUTRA</td><td>S/N</td><td>KM 210,5-SENT SP/RJ</td><td>BONSUCESSO</td><td>07178-580</td><td>GNV</td><td>02/01/2014</td><td>1,599</td><td>null</td><td>R$ / mÂ³</td><td>PETROBRAS DISTRIBUIDORA S.A.</td><td>2014-01</td><td>null</td></tr></tbody></table></div>"
      ]
     },
     "metadata": {
      "application/vnd.databricks.v1+output": {
       "addedWidgets": {},
       "aggData": [],
       "aggError": "",
       "aggOverflow": false,
       "aggSchema": [],
       "aggSeriesLimitReached": false,
       "aggType": "",
       "arguments": {},
       "columnCustomDisplayInfos": {},
       "data": [
        [
         "SE",
         "SP",
         "GUARULHOS",
         "AUTO POSTO SAKAMOTO LTDA",
         " 49.051.667/0001-02",
         "RODOVIA PRESIDENTE DUTRA",
         "S/N",
         "KM 210,5-SENT SP/RJ",
         "BONSUCESSO",
         "07178-580",
         "GASOLINA",
         "02/01/2014",
         "2,899",
         null,
         "R$ / litro",
         "PETROBRAS DISTRIBUIDORA S.A.",
         "2014-01",
         null
        ],
        [
         "SE",
         "SP",
         "GUARULHOS",
         "AUTO POSTO SAKAMOTO LTDA",
         " 49.051.667/0001-02",
         "RODOVIA PRESIDENTE DUTRA",
         "S/N",
         "KM 210,5-SENT SP/RJ",
         "BONSUCESSO",
         "07178-580",
         "ETANOL",
         "02/01/2014",
         "1,949",
         null,
         "R$ / litro",
         "PETROBRAS DISTRIBUIDORA S.A.",
         "2014-01",
         null
        ],
        [
         "SE",
         "SP",
         "GUARULHOS",
         "AUTO POSTO SAKAMOTO LTDA",
         " 49.051.667/0001-02",
         "RODOVIA PRESIDENTE DUTRA",
         "S/N",
         "KM 210,5-SENT SP/RJ",
         "BONSUCESSO",
         "07178-580",
         "DIESEL",
         "02/01/2014",
         "2,399",
         null,
         "R$ / litro",
         "PETROBRAS DISTRIBUIDORA S.A.",
         "2014-01",
         null
        ],
        [
         "SE",
         "SP",
         "GUARULHOS",
         "AUTO POSTO SAKAMOTO LTDA",
         " 49.051.667/0001-02",
         "RODOVIA PRESIDENTE DUTRA",
         "S/N",
         "KM 210,5-SENT SP/RJ",
         "BONSUCESSO",
         "07178-580",
         "DIESEL S10",
         "02/01/2014",
         "2,569",
         null,
         "R$ / litro",
         "PETROBRAS DISTRIBUIDORA S.A.",
         "2014-01",
         null
        ],
        [
         "SE",
         "SP",
         "GUARULHOS",
         "AUTO POSTO SAKAMOTO LTDA",
         " 49.051.667/0001-02",
         "RODOVIA PRESIDENTE DUTRA",
         "S/N",
         "KM 210,5-SENT SP/RJ",
         "BONSUCESSO",
         "07178-580",
         "GNV",
         "02/01/2014",
         "1,599",
         null,
         "R$ / mÂ³",
         "PETROBRAS DISTRIBUIDORA S.A.",
         "2014-01",
         null
        ]
       ],
       "datasetInfos": [],
       "dbfsResultPath": null,
       "isJsonSchema": true,
       "metadata": {},
       "overflow": false,
       "plotOptions": {
        "customPlotOptions": {},
        "displayType": "table",
        "pivotAggregation": null,
        "pivotColumns": null,
        "xColumns": null,
        "yColumns": null
       },
       "removedWidgets": [],
       "schema": [
        {
         "metadata": "{}",
         "name": "ï»¿Regiao - Sigla",
         "type": "\"string\""
        },
        {
         "metadata": "{}",
         "name": "Estado - Sigla",
         "type": "\"string\""
        },
        {
         "metadata": "{}",
         "name": "Municipio",
         "type": "\"string\""
        },
        {
         "metadata": "{}",
         "name": "Revenda",
         "type": "\"string\""
        },
        {
         "metadata": "{}",
         "name": "CNPJ da Revenda",
         "type": "\"string\""
        },
        {
         "metadata": "{}",
         "name": "Nome da Rua",
         "type": "\"string\""
        },
        {
         "metadata": "{}",
         "name": "Numero Rua",
         "type": "\"string\""
        },
        {
         "metadata": "{}",
         "name": "Complemento",
         "type": "\"string\""
        },
        {
         "metadata": "{}",
         "name": "Bairro",
         "type": "\"string\""
        },
        {
         "metadata": "{}",
         "name": "Cep",
         "type": "\"string\""
        },
        {
         "metadata": "{}",
         "name": "Produto",
         "type": "\"string\""
        },
        {
         "metadata": "{}",
         "name": "Data da Coleta",
         "type": "\"string\""
        },
        {
         "metadata": "{}",
         "name": "Valor de Venda",
         "type": "\"string\""
        },
        {
         "metadata": "{}",
         "name": "Valor de Compra",
         "type": "\"void\""
        },
        {
         "metadata": "{}",
         "name": "Unidade de Medida",
         "type": "\"string\""
        },
        {
         "metadata": "{}",
         "name": "Bandeira",
         "type": "\"string\""
        },
        {
         "metadata": "{}",
         "name": "arquivo_origem",
         "type": "\"string\""
        },
        {
         "metadata": "{}",
         "name": "Regiao - Sigla",
         "type": "\"void\""
        }
       ],
       "type": "table"
      }
     },
     "output_type": "display_data"
    }
   ],
   "source": [
    "## 1. Coleta e Importação dos Dados\n",
    "\n",
    "import pandas as pd\n",
    "\n",
    "# Ajustei o nome das planilhas para que seguissem o padrão Ano-Semestre, indo de 2014 até 2024\n",
    "\n",
    "anos = list(range(2014, 2025))\n",
    "semestral = [\"01\", \"02\"]\n",
    "\n",
    "arquivos = [\n",
    "    f\"/Volumes/main/default/mvp/{ano}-{sem}.csv\"\n",
    "    for ano in anos\n",
    "    for sem in semestral\n",
    "]\n",
    "\n",
    "dfs = []\n",
    "for caminho in arquivos:\n",
    "    try:\n",
    "        df = pd.read_csv(caminho, sep=';', encoding='latin1', low_memory=False)\n",
    "        df[\"arquivo_origem\"] = caminho.split(\"/\")[-1].replace(\".csv\", \"\")\n",
    "        dfs.append(df)\n",
    "\n",
    "        print(f\"✅ Carregado com sucesso: {caminho}\")\n",
    "    except Exception as e:\n",
    "        print(f\"❌ Erro ao carregar: {caminho} | Erro: {e}\")\n",
    "\n",
    "df_combustivel = pd.concat(dfs, ignore_index=True)\n",
    "\n",
    "display(df_combustivel.head())\n"
   ]
  },
  {
   "cell_type": "code",
   "execution_count": 0,
   "metadata": {
    "application/vnd.databricks.v1+cell": {
     "cellMetadata": {
      "byteLimit": 2048000,
      "rowLimit": 10000
     },
     "inputWidgets": {},
     "nuid": "7cd9c620-6486-46cf-83f0-16e921fe9918",
     "showTitle": false,
     "tableResultSettingsMap": {},
     "title": ""
    }
   },
   "outputs": [
    {
     "output_type": "display_data",
     "data": {
      "text/html": [
       "<style scoped>\n",
       "  .table-result-container {\n",
       "    max-height: 300px;\n",
       "    overflow: auto;\n",
       "  }\n",
       "  table, th, td {\n",
       "    border: 1px solid black;\n",
       "    border-collapse: collapse;\n",
       "  }\n",
       "  th, td {\n",
       "    padding: 5px;\n",
       "  }\n",
       "  th {\n",
       "    text-align: left;\n",
       "  }\n",
       "</style><div class='table-result-container'><table class='table-result'><thead style='background-color: white'><tr><th>ï»¿Regiao - Sigla</th><th>Estado - Sigla</th><th>Municipio</th><th>Produto</th><th>Valor de Venda</th><th>Bandeira</th><th>Data da Coleta</th><th>arquivo_origem</th></tr></thead><tbody><tr><td>SE</td><td>SP</td><td>GUARULHOS</td><td>GASOLINA</td><td>2.899</td><td>PETROBRAS DISTRIBUIDORA S.A.</td><td>2014-01-02T00:00:00.000Z</td><td>2014-01</td></tr><tr><td>SE</td><td>SP</td><td>GUARULHOS</td><td>ETANOL</td><td>1.949</td><td>PETROBRAS DISTRIBUIDORA S.A.</td><td>2014-01-02T00:00:00.000Z</td><td>2014-01</td></tr><tr><td>SE</td><td>SP</td><td>GUARULHOS</td><td>DIESEL</td><td>2.399</td><td>PETROBRAS DISTRIBUIDORA S.A.</td><td>2014-01-02T00:00:00.000Z</td><td>2014-01</td></tr><tr><td>SE</td><td>SP</td><td>GUARULHOS</td><td>DIESEL S10</td><td>2.569</td><td>PETROBRAS DISTRIBUIDORA S.A.</td><td>2014-01-02T00:00:00.000Z</td><td>2014-01</td></tr><tr><td>SE</td><td>SP</td><td>GUARULHOS</td><td>GNV</td><td>1.599</td><td>PETROBRAS DISTRIBUIDORA S.A.</td><td>2014-01-02T00:00:00.000Z</td><td>2014-01</td></tr></tbody></table></div>"
      ]
     },
     "metadata": {
      "application/vnd.databricks.v1+output": {
       "addedWidgets": {},
       "aggData": [],
       "aggError": "",
       "aggOverflow": false,
       "aggSchema": [],
       "aggSeriesLimitReached": false,
       "aggType": "",
       "arguments": {},
       "columnCustomDisplayInfos": {},
       "data": [
        [
         "SE",
         "SP",
         "GUARULHOS",
         "GASOLINA",
         2.899,
         "PETROBRAS DISTRIBUIDORA S.A.",
         "2014-01-02T00:00:00.000Z",
         "2014-01"
        ],
        [
         "SE",
         "SP",
         "GUARULHOS",
         "ETANOL",
         1.949,
         "PETROBRAS DISTRIBUIDORA S.A.",
         "2014-01-02T00:00:00.000Z",
         "2014-01"
        ],
        [
         "SE",
         "SP",
         "GUARULHOS",
         "DIESEL",
         2.399,
         "PETROBRAS DISTRIBUIDORA S.A.",
         "2014-01-02T00:00:00.000Z",
         "2014-01"
        ],
        [
         "SE",
         "SP",
         "GUARULHOS",
         "DIESEL S10",
         2.569,
         "PETROBRAS DISTRIBUIDORA S.A.",
         "2014-01-02T00:00:00.000Z",
         "2014-01"
        ],
        [
         "SE",
         "SP",
         "GUARULHOS",
         "GNV",
         1.599,
         "PETROBRAS DISTRIBUIDORA S.A.",
         "2014-01-02T00:00:00.000Z",
         "2014-01"
        ]
       ],
       "datasetInfos": [],
       "dbfsResultPath": null,
       "isJsonSchema": true,
       "metadata": {},
       "overflow": false,
       "plotOptions": {
        "customPlotOptions": {},
        "displayType": "table",
        "pivotAggregation": null,
        "pivotColumns": null,
        "xColumns": null,
        "yColumns": null
       },
       "removedWidgets": [],
       "schema": [
        {
         "metadata": "{}",
         "name": "ï»¿Regiao - Sigla",
         "type": "\"string\""
        },
        {
         "metadata": "{}",
         "name": "Estado - Sigla",
         "type": "\"string\""
        },
        {
         "metadata": "{}",
         "name": "Municipio",
         "type": "\"string\""
        },
        {
         "metadata": "{}",
         "name": "Produto",
         "type": "\"string\""
        },
        {
         "metadata": "{}",
         "name": "Valor de Venda",
         "type": "\"double\""
        },
        {
         "metadata": "{}",
         "name": "Bandeira",
         "type": "\"string\""
        },
        {
         "metadata": "{}",
         "name": "Data da Coleta",
         "type": "\"timestamp\""
        },
        {
         "metadata": "{}",
         "name": "arquivo_origem",
         "type": "\"string\""
        }
       ],
       "type": "table"
      }
     },
     "output_type": "display_data"
    }
   ],
   "source": [
    "## 2. Limpeza e Transformação\n",
    "\n",
    "df_combustivel[\"Data da Coleta\"] = pd.to_datetime(\n",
    "    df_combustivel[\"Data da Coleta\"], \n",
    "    format=\"%d/%m/%Y\", \n",
    "    errors=\"coerce\"\n",
    ")\n",
    "\n",
    "df_combustivel[\"Valor de Venda\"] = (\n",
    "    df_combustivel[\"Valor de Venda\"]\n",
    "    .astype(str)\n",
    "    .str.replace(\",\", \".\", regex=False)\n",
    "    .astype(float)\n",
    ")\n",
    "\n",
    "colunas_uteis = [\n",
    "    'ï»¿Regiao - Sigla',\n",
    "    'Estado - Sigla',\n",
    "    'Municipio',\n",
    "    'Produto',\n",
    "    'Valor de Venda',\n",
    "    'Bandeira',\n",
    "    'Data da Coleta',\n",
    "    'arquivo_origem'\n",
    "]\n",
    "df_limpo = df_combustivel[colunas_uteis].copy()\n",
    "\n",
    "display(df_limpo.head())\n"
   ]
  },
  {
   "cell_type": "code",
   "execution_count": 0,
   "metadata": {
    "application/vnd.databricks.v1+cell": {
     "cellMetadata": {
      "byteLimit": 2048000,
      "rowLimit": 10000
     },
     "inputWidgets": {},
     "nuid": "d37ace60-9ed4-40f5-9632-51f437957be1",
     "showTitle": false,
     "tableResultSettingsMap": {},
     "title": ""
    }
   },
   "outputs": [
    {
     "output_type": "stream",
     "name": "stdout",
     "output_type": "stream",
     "text": [
      "Valores nulos por coluna:\nï»¿Regiao - Sigla    472856\nEstado - Sigla            0\nMunicipio                 0\nProduto                   0\nValor de Venda            1\nBandeira                  1\nData da Coleta            1\narquivo_origem            0\ndtype: int64\n\nIntervalo de datas:\n2014-01-01 00:00:00 → 2024-12-31 00:00:00\n\nTipos de combustível encontrados:\n['GASOLINA' 'ETANOL' 'DIESEL' 'DIESEL S10' 'GNV' 'ETANO'\n 'GASOLINA ADITIVADA']\n\nEstatísticas do Valor de Venda:\ncount    1.027284e+07\nmean     4.041774e+00\nstd      1.366383e+00\nmin      1.339000e+00\n25%      2.999000e+00\n50%      3.660000e+00\n75%      4.990000e+00\nmax      9.790000e+00\nName: Valor de Venda, dtype: float64\n\n⚠️ Registros com preços suspeitos: 0\n✅ Nenhum registro com preço fora da faixa esperada (1 a 20).\n"
     ]
    }
   ],
   "source": [
    "## 3. Análise de Qualidade dos Dados\n",
    "\n",
    "print(\"Valores nulos por coluna:\")\n",
    "print(df_limpo.isnull().sum())\n",
    "\n",
    "print(\"\\nIntervalo de datas:\")\n",
    "print(df_limpo[\"Data da Coleta\"].min(), \"→\", df_limpo[\"Data da Coleta\"].max())\n",
    "\n",
    "print(\"\\nTipos de combustível encontrados:\")\n",
    "print(df_limpo[\"Produto\"].unique())\n",
    "\n",
    "print(\"\\nEstatísticas do Valor de Venda:\")\n",
    "print(df_limpo[\"Valor de Venda\"].describe())\n",
    "\n",
    "df_preco_estranho = df_limpo[(df_limpo[\"Valor de Venda\"] < 1) | (df_limpo[\"Valor de Venda\"] > 20)]\n",
    "\n",
    "produtos_excluir = [\"ETANO\"]\n",
    "df_limpo = df_limpo[~df_limpo[\"Produto\"].str.upper().isin(produtos_excluir)]\n",
    "\n",
    "\n",
    "print(f\"\\n⚠️ Registros com preços suspeitos: {df_preco_estranho.shape[0]}\")\n",
    "if not df_preco_estranho.empty:\n",
    "    display(df_preco_estranho)\n",
    "else:\n",
    "    print(\"✅ Nenhum registro com preço fora da faixa esperada (1 a 20).\")\n"
   ]
  },
  {
   "cell_type": "code",
   "execution_count": 0,
   "metadata": {
    "application/vnd.databricks.v1+cell": {
     "cellMetadata": {
      "byteLimit": 2048000,
      "rowLimit": 10000
     },
     "inputWidgets": {},
     "nuid": "d9521461-a765-432b-a986-367108cff315",
     "showTitle": false,
     "tableResultSettingsMap": {},
     "title": ""
    }
   },
   "outputs": [
    {
     "output_type": "display_data",
     "data": {
      "image/png": "[encoded data removed]",
      "text/plain": [
       "<Figure size 1200x600 with 1 Axes>"
      ]
     },
     "metadata": {},
     "output_type": "display_data"
    }
   ],
   "source": [
    "## 4. Evolução dos Preços por Ano e Produto\n",
    "\n",
    "import matplotlib.pyplot as plt\n",
    "\n",
    "# 📅 Criar uma coluna com o ano\n",
    "df_limpo[\"Ano\"] = df_limpo[\"Data da Coleta\"].dt.year\n",
    "\n",
    "# 📊 Agrupar por ano e produto (combustível) e calcular a média\n",
    "df_media_ano = df_limpo.groupby([\"Ano\", \"Produto\"])[\"Valor de Venda\"].mean().reset_index()\n",
    "\n",
    "# 🎨 Plotar gráfico de linha\n",
    "plt.figure(figsize=(12, 6))\n",
    "for produto in df_media_ano[\"Produto\"].unique():\n",
    "    dados = df_media_ano[df_media_ano[\"Produto\"] == produto]\n",
    "    plt.plot(dados[\"Ano\"], dados[\"Valor de Venda\"], label=produto)\n",
    "\n",
    "plt.title(\"Evolução do Preço Médio por Combustível (2014–2024)\")\n",
    "plt.xlabel(\"Ano\")\n",
    "plt.ylabel(\"Preço Médio (R$)\")\n",
    "plt.legend()\n",
    "plt.grid(True)\n",
    "plt.tight_layout()\n",
    "plt.show()\n"
   ]
  },
  {
   "cell_type": "code",
   "execution_count": 0,
   "metadata": {
    "application/vnd.databricks.v1+cell": {
     "cellMetadata": {
      "byteLimit": 2048000,
      "rowLimit": 10000
     },
     "inputWidgets": {},
     "nuid": "478b51a1-b233-4ead-97d6-78d49bf3e709",
     "showTitle": false,
     "tableResultSettingsMap": {},
     "title": ""
    }
   },
   "outputs": [
    {
     "output_type": "display_data",
     "data": {
      "text/html": [
       "<style scoped>\n",
       "  .table-result-container {\n",
       "    max-height: 300px;\n",
       "    overflow: auto;\n",
       "  }\n",
       "  table, th, td {\n",
       "    border: 1px solid black;\n",
       "    border-collapse: collapse;\n",
       "  }\n",
       "  th, td {\n",
       "    padding: 5px;\n",
       "  }\n",
       "  th {\n",
       "    text-align: left;\n",
       "  }\n",
       "</style><div class='table-result-container'><table class='table-result'><thead style='background-color: white'><tr><th>Produto</th><th>preco_min</th><th>preco_max</th><th>media</th><th>desvio_padrao</th><th>variacao_absoluta</th><th>variacao_percentual</th></tr></thead><tbody><tr><td>DIESEL S10</td><td>2.099</td><td>9.65</td><td>4.121124134109303</td><td>1.362252558066965</td><td>7.551</td><td>183.22670597332043</td></tr><tr><td>DIESEL</td><td>2.099</td><td>8.999</td><td>3.720993231061684</td><td>1.3104850616505037</td><td>6.9</td><td>185.4343604390614</td></tr><tr><td>GNV</td><td>1.339</td><td>7.99</td><td>3.2540972058917843</td><td>1.2205761394404113</td><td>6.651</td><td>204.38848562845234</td></tr><tr><td>GASOLINA</td><td>2.35</td><td>8.99</td><td>4.436903406491645</td><td>1.168045476225024</td><td>6.640000000000001</td><td>149.65392283016573</td></tr><tr><td>ETANOL</td><td>1.39</td><td>7.98</td><td>3.2580970844008705</td><td>0.9674556599888692</td><td>6.590000000000001</td><td>202.2653048477784</td></tr><tr><td>GASOLINA ADITIVADA</td><td>3.457</td><td>9.79</td><td>6.049327963982704</td><td>0.7489803901236892</td><td>6.332999999999999</td><td>104.6893148744168</td></tr></tbody></table></div>"
      ]
     },
     "metadata": {
      "application/vnd.databricks.v1+output": {
       "addedWidgets": {},
       "aggData": [],
       "aggError": "",
       "aggOverflow": false,
       "aggSchema": [],
       "aggSeriesLimitReached": false,
       "aggType": "",
       "arguments": {},
       "columnCustomDisplayInfos": {},
       "data": [
        [
         "DIESEL S10",
         2.099,
         9.65,
         4.121124134109303,
         1.362252558066965,
         7.551,
         183.22670597332043
        ],
        [
         "DIESEL",
         2.099,
         8.999,
         3.720993231061684,
         1.3104850616505037,
         6.9,
         185.4343604390614
        ],
        [
         "GNV",
         1.339,
         7.99,
         3.2540972058917843,
         1.2205761394404113,
         6.651,
         204.38848562845234
        ],
        [
         "GASOLINA",
         2.35,
         8.99,
         4.436903406491645,
         1.168045476225024,
         6.640000000000001,
         149.65392283016573
        ],
        [
         "ETANOL",
         1.39,
         7.98,
         3.2580970844008705,
         0.9674556599888692,
         6.590000000000001,
         202.2653048477784
        ],
        [
         "GASOLINA ADITIVADA",
         3.457,
         9.79,
         6.049327963982704,
         0.7489803901236892,
         6.332999999999999,
         104.6893148744168
        ]
       ],
       "datasetInfos": [],
       "dbfsResultPath": null,
       "isJsonSchema": true,
       "metadata": {},
       "overflow": false,
       "plotOptions": {
        "customPlotOptions": {},
        "displayType": "table",
        "pivotAggregation": null,
        "pivotColumns": null,
        "xColumns": null,
        "yColumns": null
       },
       "removedWidgets": [],
       "schema": [
        {
         "metadata": "{}",
         "name": "Produto",
         "type": "\"string\""
        },
        {
         "metadata": "{}",
         "name": "preco_min",
         "type": "\"double\""
        },
        {
         "metadata": "{}",
         "name": "preco_max",
         "type": "\"double\""
        },
        {
         "metadata": "{}",
         "name": "media",
         "type": "\"double\""
        },
        {
         "metadata": "{}",
         "name": "desvio_padrao",
         "type": "\"double\""
        },
        {
         "metadata": "{}",
         "name": "variacao_absoluta",
         "type": "\"double\""
        },
        {
         "metadata": "{}",
         "name": "variacao_percentual",
         "type": "\"double\""
        }
       ],
       "type": "table"
      }
     },
     "output_type": "display_data"
    }
   ],
   "source": [
    "## 5. Diferença e variação de Preços dos Combustíveis\n",
    "\n",
    "df_variacao = df_limpo.groupby(\"Produto\")[\"Valor de Venda\"].agg(\n",
    "    preco_min=\"min\",\n",
    "    preco_max=\"max\",\n",
    "    media=\"mean\",\n",
    "    desvio_padrao=\"std\"\n",
    ").reset_index()\n",
    "\n",
    "# Criar uma coluna com a variação absoluta e relativa\n",
    "df_variacao[\"variacao_absoluta\"] = df_variacao[\"preco_max\"] - df_variacao[\"preco_min\"]\n",
    "df_variacao[\"variacao_percentual\"] = (df_variacao[\"variacao_absoluta\"] / df_variacao[\"media\"]) * 100\n",
    "\n",
    "df_variacao = df_variacao.sort_values(\"variacao_absoluta\", ascending=False)\n",
    "display(df_variacao)\n"
   ]
  },
  {
   "cell_type": "code",
   "execution_count": 0,
   "metadata": {
    "application/vnd.databricks.v1+cell": {
     "cellMetadata": {
      "byteLimit": 2048000,
      "rowLimit": 10000
     },
     "inputWidgets": {},
     "nuid": "9954878a-1327-4778-9c9f-765a4df38945",
     "showTitle": false,
     "tableResultSettingsMap": {},
     "title": ""
    }
   },
   "outputs": [
    {
     "output_type": "display_data",
     "data": {
      "text/html": [
       "<style scoped>\n",
       "  .table-result-container {\n",
       "    max-height: 300px;\n",
       "    overflow: auto;\n",
       "  }\n",
       "  table, th, td {\n",
       "    border: 1px solid black;\n",
       "    border-collapse: collapse;\n",
       "  }\n",
       "  th, td {\n",
       "    padding: 5px;\n",
       "  }\n",
       "  th {\n",
       "    text-align: left;\n",
       "  }\n",
       "</style><div class='table-result-container'><table class='table-result'><thead style='background-color: white'><tr><th>Ano</th><th>Produto</th><th>Preço Mínimo</th><th>Estado Mínimo</th><th>Preço Máximo</th><th>Estado Máximo</th></tr></thead><tbody><tr><td>2014</td><td>DIESEL</td><td>2.436</td><td>PB</td><td>3.074</td><td>AC</td></tr><tr><td>2015</td><td>DIESEL</td><td>2.724</td><td>PR</td><td>3.425</td><td>AC</td></tr><tr><td>2016</td><td>DIESEL</td><td>2.872</td><td>PR</td><td>3.648</td><td>AC</td></tr><tr><td>2017</td><td>DIESEL</td><td>2.906</td><td>PR</td><td>3.871</td><td>AC</td></tr><tr><td>2018</td><td>DIESEL</td><td>3.305</td><td>PR</td><td>4.291</td><td>AC</td></tr><tr><td>2019</td><td>DIESEL</td><td>3.393</td><td>PR</td><td>4.44</td><td>AC</td></tr><tr><td>2020</td><td>DIESEL</td><td>3.192</td><td>PR</td><td>4.317</td><td>AC</td></tr><tr><td>2021</td><td>DIESEL</td><td>4.444</td><td>ES</td><td>5.614</td><td>AC</td></tr><tr><td>2022</td><td>DIESEL</td><td>6.391</td><td>ES</td><td>7.456</td><td>AC</td></tr><tr><td>2023</td><td>DIESEL</td><td>5.46</td><td>SE</td><td>6.803</td><td>AC</td></tr><tr><td>2024</td><td>DIESEL</td><td>5.671</td><td>SE</td><td>7.376</td><td>AC</td></tr></tbody></table></div>"
      ]
     },
     "metadata": {
      "application/vnd.databricks.v1+output": {
       "addedWidgets": {},
       "aggData": [],
       "aggError": "",
       "aggOverflow": false,
       "aggSchema": [],
       "aggSeriesLimitReached": false,
       "aggType": "",
       "arguments": {},
       "columnCustomDisplayInfos": {},
       "data": [
        [
         2014,
         "DIESEL",
         2.436,
         "PB",
         3.074,
         "AC"
        ],
        [
         2015,
         "DIESEL",
         2.724,
         "PR",
         3.425,
         "AC"
        ],
        [
         2016,
         "DIESEL",
         2.872,
         "PR",
         3.648,
         "AC"
        ],
        [
         2017,
         "DIESEL",
         2.906,
         "PR",
         3.871,
         "AC"
        ],
        [
         2018,
         "DIESEL",
         3.305,
         "PR",
         4.291,
         "AC"
        ],
        [
         2019,
         "DIESEL",
         3.393,
         "PR",
         4.44,
         "AC"
        ],
        [
         2020,
         "DIESEL",
         3.192,
         "PR",
         4.317,
         "AC"
        ],
        [
         2021,
         "DIESEL",
         4.444,
         "ES",
         5.614,
         "AC"
        ],
        [
         2022,
         "DIESEL",
         6.391,
         "ES",
         7.456,
         "AC"
        ],
        [
         2023,
         "DIESEL",
         5.46,
         "SE",
         6.803,
         "AC"
        ],
        [
         2024,
         "DIESEL",
         5.671,
         "SE",
         7.376,
         "AC"
        ]
       ],
       "datasetInfos": [],
       "dbfsResultPath": null,
       "isJsonSchema": true,
       "metadata": {},
       "overflow": false,
       "plotOptions": {
        "customPlotOptions": {},
        "displayType": "table",
        "pivotAggregation": null,
        "pivotColumns": null,
        "xColumns": null,
        "yColumns": null
       },
       "removedWidgets": [],
       "schema": [
        {
         "metadata": "{}",
         "name": "Ano",
         "type": "\"long\""
        },
        {
         "metadata": "{}",
         "name": "Produto",
         "type": "\"string\""
        },
        {
         "metadata": "{}",
         "name": "Preço Mínimo",
         "type": "\"double\""
        },
        {
         "metadata": "{}",
         "name": "Estado Mínimo",
         "type": "\"string\""
        },
        {
         "metadata": "{}",
         "name": "Preço Máximo",
         "type": "\"double\""
        },
        {
         "metadata": "{}",
         "name": "Estado Máximo",
         "type": "\"string\""
        }
       ],
       "type": "table"
      }
     },
     "output_type": "display_data"
    },
    {
     "output_type": "display_data",
     "data": {
      "text/html": [
       "<style scoped>\n",
       "  .table-result-container {\n",
       "    max-height: 300px;\n",
       "    overflow: auto;\n",
       "  }\n",
       "  table, th, td {\n",
       "    border: 1px solid black;\n",
       "    border-collapse: collapse;\n",
       "  }\n",
       "  th, td {\n",
       "    padding: 5px;\n",
       "  }\n",
       "  th {\n",
       "    text-align: left;\n",
       "  }\n",
       "</style><div class='table-result-container'><table class='table-result'><thead style='background-color: white'><tr><th>Ano</th><th>Produto</th><th>Preço Mínimo</th><th>Estado Mínimo</th><th>Preço Máximo</th><th>Estado Máximo</th></tr></thead><tbody><tr><td>2014</td><td>DIESEL S10</td><td>2.543</td><td>MA</td><td>3.138</td><td>AC</td></tr><tr><td>2015</td><td>DIESEL S10</td><td>2.84</td><td>PE</td><td>3.481</td><td>AC</td></tr><tr><td>2016</td><td>DIESEL S10</td><td>2.981</td><td>PR</td><td>3.979</td><td>AP</td></tr><tr><td>2017</td><td>DIESEL S10</td><td>3.02</td><td>PR</td><td>4.059</td><td>AP</td></tr><tr><td>2018</td><td>DIESEL S10</td><td>3.4</td><td>PR</td><td>4.406</td><td>AP</td></tr><tr><td>2019</td><td>DIESEL S10</td><td>3.481</td><td>PR</td><td>4.613</td><td>AP</td></tr><tr><td>2020</td><td>DIESEL S10</td><td>3.262</td><td>PR</td><td>4.36</td><td>AC</td></tr><tr><td>2021</td><td>DIESEL S10</td><td>4.512</td><td>PR</td><td>5.645</td><td>AC</td></tr><tr><td>2022</td><td>DIESEL S10</td><td>6.511</td><td>ES</td><td>7.49</td><td>AC</td></tr><tr><td>2023</td><td>DIESEL S10</td><td>5.592</td><td>PE</td><td>6.868</td><td>AC</td></tr><tr><td>2024</td><td>DIESEL S10</td><td>5.768</td><td>PE</td><td>7.446</td><td>AC</td></tr></tbody></table></div>"
      ]
     },
     "metadata": {
      "application/vnd.databricks.v1+output": {
       "addedWidgets": {},
       "aggData": [],
       "aggError": "",
       "aggOverflow": false,
       "aggSchema": [],
       "aggSeriesLimitReached": false,
       "aggType": "",
       "arguments": {},
       "columnCustomDisplayInfos": {},
       "data": [
        [
         2014,
         "DIESEL S10",
         2.543,
         "MA",
         3.138,
         "AC"
        ],
        [
         2015,
         "DIESEL S10",
         2.84,
         "PE",
         3.481,
         "AC"
        ],
        [
         2016,
         "DIESEL S10",
         2.981,
         "PR",
         3.979,
         "AP"
        ],
        [
         2017,
         "DIESEL S10",
         3.02,
         "PR",
         4.059,
         "AP"
        ],
        [
         2018,
         "DIESEL S10",
         3.4,
         "PR",
         4.406,
         "AP"
        ],
        [
         2019,
         "DIESEL S10",
         3.481,
         "PR",
         4.613,
         "AP"
        ],
        [
         2020,
         "DIESEL S10",
         3.262,
         "PR",
         4.36,
         "AC"
        ],
        [
         2021,
         "DIESEL S10",
         4.512,
         "PR",
         5.645,
         "AC"
        ],
        [
         2022,
         "DIESEL S10",
         6.511,
         "ES",
         7.49,
         "AC"
        ],
        [
         2023,
         "DIESEL S10",
         5.592,
         "PE",
         6.868,
         "AC"
        ],
        [
         2024,
         "DIESEL S10",
         5.768,
         "PE",
         7.446,
         "AC"
        ]
       ],
       "datasetInfos": [],
       "dbfsResultPath": null,
       "isJsonSchema": true,
       "metadata": {},
       "overflow": false,
       "plotOptions": {
        "customPlotOptions": {},
        "displayType": "table",
        "pivotAggregation": null,
        "pivotColumns": null,
        "xColumns": null,
        "yColumns": null
       },
       "removedWidgets": [],
       "schema": [
        {
         "metadata": "{}",
         "name": "Ano",
         "type": "\"long\""
        },
        {
         "metadata": "{}",
         "name": "Produto",
         "type": "\"string\""
        },
        {
         "metadata": "{}",
         "name": "Preço Mínimo",
         "type": "\"double\""
        },
        {
         "metadata": "{}",
         "name": "Estado Mínimo",
         "type": "\"string\""
        },
        {
         "metadata": "{}",
         "name": "Preço Máximo",
         "type": "\"double\""
        },
        {
         "metadata": "{}",
         "name": "Estado Máximo",
         "type": "\"string\""
        }
       ],
       "type": "table"
      }
     },
     "output_type": "display_data"
    },
    {
     "output_type": "display_data",
     "data": {
      "text/html": [
       "<style scoped>\n",
       "  .table-result-container {\n",
       "    max-height: 300px;\n",
       "    overflow: auto;\n",
       "  }\n",
       "  table, th, td {\n",
       "    border: 1px solid black;\n",
       "    border-collapse: collapse;\n",
       "  }\n",
       "  th, td {\n",
       "    padding: 5px;\n",
       "  }\n",
       "  th {\n",
       "    text-align: left;\n",
       "  }\n",
       "</style><div class='table-result-container'><table class='table-result'><thead style='background-color: white'><tr><th>Ano</th><th>Produto</th><th>Preço Mínimo</th><th>Estado Mínimo</th><th>Preço Máximo</th><th>Estado Máximo</th></tr></thead><tbody><tr><td>2014</td><td>ETANOL</td><td>1.936</td><td>SP</td><td>2.855</td><td>AC</td></tr><tr><td>2015</td><td>ETANOL</td><td>2.089</td><td>SP</td><td>3.116</td><td>AC</td></tr><tr><td>2016</td><td>ETANOL</td><td>2.499</td><td>SP</td><td>3.66</td><td>AP</td></tr><tr><td>2017</td><td>ETANOL</td><td>2.51</td><td>MT</td><td>3.771</td><td>AP</td></tr><tr><td>2018</td><td>ETANOL</td><td>2.732</td><td>SP</td><td>4.04</td><td>RS</td></tr><tr><td>2019</td><td>ETANOL</td><td>2.646</td><td>MT</td><td>4.093</td><td>RS</td></tr><tr><td>2020</td><td>ETANOL</td><td>2.739</td><td>SP</td><td>4.182</td><td>RS</td></tr><tr><td>2021</td><td>ETANOL</td><td>4.262</td><td>SP</td><td>5.893</td><td>RS</td></tr><tr><td>2022</td><td>ETANOL</td><td>4.294</td><td>MT</td><td>6.055</td><td>AP</td></tr><tr><td>2023</td><td>ETANOL</td><td>3.442</td><td>MT</td><td>5.331</td><td>AP</td></tr><tr><td>2024</td><td>ETANOL</td><td>3.588</td><td>MT</td><td>5.036</td><td>AP</td></tr></tbody></table></div>"
      ]
     },
     "metadata": {
      "application/vnd.databricks.v1+output": {
       "addedWidgets": {},
       "aggData": [],
       "aggError": "",
       "aggOverflow": false,
       "aggSchema": [],
       "aggSeriesLimitReached": false,
       "aggType": "",
       "arguments": {},
       "columnCustomDisplayInfos": {},
       "data": [
        [
         2014,
         "ETANOL",
         1.936,
         "SP",
         2.855,
         "AC"
        ],
        [
         2015,
         "ETANOL",
         2.089,
         "SP",
         3.116,
         "AC"
        ],
        [
         2016,
         "ETANOL",
         2.499,
         "SP",
         3.66,
         "AP"
        ],
        [
         2017,
         "ETANOL",
         2.51,
         "MT",
         3.771,
         "AP"
        ],
        [
         2018,
         "ETANOL",
         2.732,
         "SP",
         4.04,
         "RS"
        ],
        [
         2019,
         "ETANOL",
         2.646,
         "MT",
         4.093,
         "RS"
        ],
        [
         2020,
         "ETANOL",
         2.739,
         "SP",
         4.182,
         "RS"
        ],
        [
         2021,
         "ETANOL",
         4.262,
         "SP",
         5.893,
         "RS"
        ],
        [
         2022,
         "ETANOL",
         4.294,
         "MT",
         6.055,
         "AP"
        ],
        [
         2023,
         "ETANOL",
         3.442,
         "MT",
         5.331,
         "AP"
        ],
        [
         2024,
         "ETANOL",
         3.588,
         "MT",
         5.036,
         "AP"
        ]
       ],
       "datasetInfos": [],
       "dbfsResultPath": null,
       "isJsonSchema": true,
       "metadata": {},
       "overflow": false,
       "plotOptions": {
        "customPlotOptions": {},
        "displayType": "table",
        "pivotAggregation": null,
        "pivotColumns": null,
        "xColumns": null,
        "yColumns": null
       },
       "removedWidgets": [],
       "schema": [
        {
         "metadata": "{}",
         "name": "Ano",
         "type": "\"long\""
        },
        {
         "metadata": "{}",
         "name": "Produto",
         "type": "\"string\""
        },
        {
         "metadata": "{}",
         "name": "Preço Mínimo",
         "type": "\"double\""
        },
        {
         "metadata": "{}",
         "name": "Estado Mínimo",
         "type": "\"string\""
        },
        {
         "metadata": "{}",
         "name": "Preço Máximo",
         "type": "\"double\""
        },
        {
         "metadata": "{}",
         "name": "Estado Máximo",
         "type": "\"string\""
        }
       ],
       "type": "table"
      }
     },
     "output_type": "display_data"
    },
    {
     "output_type": "display_data",
     "data": {
      "text/html": [
       "<style scoped>\n",
       "  .table-result-container {\n",
       "    max-height: 300px;\n",
       "    overflow: auto;\n",
       "  }\n",
       "  table, th, td {\n",
       "    border: 1px solid black;\n",
       "    border-collapse: collapse;\n",
       "  }\n",
       "  th, td {\n",
       "    padding: 5px;\n",
       "  }\n",
       "  th {\n",
       "    text-align: left;\n",
       "  }\n",
       "</style><div class='table-result-container'><table class='table-result'><thead style='background-color: white'><tr><th>Ano</th><th>Produto</th><th>Preço Mínimo</th><th>Estado Mínimo</th><th>Preço Máximo</th><th>Estado Máximo</th></tr></thead><tbody><tr><td>2014</td><td>GASOLINA</td><td>2.859</td><td>PI</td><td>3.487</td><td>AC</td></tr><tr><td>2015</td><td>GASOLINA</td><td>3.188</td><td>SP</td><td>3.883</td><td>AC</td></tr><tr><td>2016</td><td>GASOLINA</td><td>3.539</td><td>SP</td><td>4.164</td><td>AC</td></tr><tr><td>2017</td><td>GASOLINA</td><td>3.583</td><td>SP</td><td>4.405</td><td>AC</td></tr><tr><td>2018</td><td>GASOLINA</td><td>4.079</td><td>AP</td><td>5.022</td><td>AC</td></tr><tr><td>2019</td><td>GASOLINA</td><td>3.947</td><td>AP</td><td>4.896</td><td>AC</td></tr><tr><td>2020</td><td>GASOLINA</td><td>3.532</td><td>AP</td><td>4.822</td><td>AC</td></tr><tr><td>2021</td><td>GASOLINA</td><td>5.041</td><td>AP</td><td>6.449</td><td>AC</td></tr><tr><td>2022</td><td>GASOLINA</td><td>5.628</td><td>AP</td><td>6.9</td><td>AC</td></tr><tr><td>2023</td><td>GASOLINA</td><td>5.269</td><td>AP</td><td>6.415</td><td>AC</td></tr><tr><td>2024</td><td>GASOLINA</td><td>5.747</td><td>SP</td><td>7.159</td><td>AC</td></tr></tbody></table></div>"
      ]
     },
     "metadata": {
      "application/vnd.databricks.v1+output": {
       "addedWidgets": {},
       "aggData": [],
       "aggError": "",
       "aggOverflow": false,
       "aggSchema": [],
       "aggSeriesLimitReached": false,
       "aggType": "",
       "arguments": {},
       "columnCustomDisplayInfos": {},
       "data": [
        [
         2014,
         "GASOLINA",
         2.859,
         "PI",
         3.487,
         "AC"
        ],
        [
         2015,
         "GASOLINA",
         3.188,
         "SP",
         3.883,
         "AC"
        ],
        [
         2016,
         "GASOLINA",
         3.539,
         "SP",
         4.164,
         "AC"
        ],
        [
         2017,
         "GASOLINA",
         3.583,
         "SP",
         4.405,
         "AC"
        ],
        [
         2018,
         "GASOLINA",
         4.079,
         "AP",
         5.022,
         "AC"
        ],
        [
         2019,
         "GASOLINA",
         3.947,
         "AP",
         4.896,
         "AC"
        ],
        [
         2020,
         "GASOLINA",
         3.532,
         "AP",
         4.822,
         "AC"
        ],
        [
         2021,
         "GASOLINA",
         5.041,
         "AP",
         6.449,
         "AC"
        ],
        [
         2022,
         "GASOLINA",
         5.628,
         "AP",
         6.9,
         "AC"
        ],
        [
         2023,
         "GASOLINA",
         5.269,
         "AP",
         6.415,
         "AC"
        ],
        [
         2024,
         "GASOLINA",
         5.747,
         "SP",
         7.159,
         "AC"
        ]
       ],
       "datasetInfos": [],
       "dbfsResultPath": null,
       "isJsonSchema": true,
       "metadata": {},
       "overflow": false,
       "plotOptions": {
        "customPlotOptions": {},
        "displayType": "table",
        "pivotAggregation": null,
        "pivotColumns": null,
        "xColumns": null,
        "yColumns": null
       },
       "removedWidgets": [],
       "schema": [
        {
         "metadata": "{}",
         "name": "Ano",
         "type": "\"long\""
        },
        {
         "metadata": "{}",
         "name": "Produto",
         "type": "\"string\""
        },
        {
         "metadata": "{}",
         "name": "Preço Mínimo",
         "type": "\"double\""
        },
        {
         "metadata": "{}",
         "name": "Estado Mínimo",
         "type": "\"string\""
        },
        {
         "metadata": "{}",
         "name": "Preço Máximo",
         "type": "\"double\""
        },
        {
         "metadata": "{}",
         "name": "Estado Máximo",
         "type": "\"string\""
        }
       ],
       "type": "table"
      }
     },
     "output_type": "display_data"
    },
    {
     "output_type": "display_data",
     "data": {
      "text/html": [
       "<style scoped>\n",
       "  .table-result-container {\n",
       "    max-height: 300px;\n",
       "    overflow: auto;\n",
       "  }\n",
       "  table, th, td {\n",
       "    border: 1px solid black;\n",
       "    border-collapse: collapse;\n",
       "  }\n",
       "  th, td {\n",
       "    padding: 5px;\n",
       "  }\n",
       "  th {\n",
       "    text-align: left;\n",
       "  }\n",
       "</style><div class='table-result-container'><table class='table-result'><thead style='background-color: white'><tr><th>Ano</th><th>Produto</th><th>Preço Mínimo</th><th>Estado Mínimo</th><th>Preço Máximo</th><th>Estado Máximo</th></tr></thead><tbody><tr><td>2014</td><td>GNV</td><td>1.766</td><td>RJ</td><td>2.313</td><td>GO</td></tr><tr><td>2015</td><td>GNV</td><td>1.927</td><td>RJ</td><td>2.899</td><td>MA</td></tr><tr><td>2016</td><td>GNV</td><td>2.096</td><td>SP</td><td>3.049</td><td>TO</td></tr><tr><td>2017</td><td>GNV</td><td>1.973</td><td>SC</td><td>3.022</td><td>PI</td></tr><tr><td>2018</td><td>GNV</td><td>2.34</td><td>SC</td><td>3.89</td><td>GO</td></tr><tr><td>2019</td><td>GNV</td><td>2.809</td><td>PE</td><td>4.559</td><td>PA</td></tr><tr><td>2020</td><td>GNV</td><td>2.43</td><td>GO</td><td>4.779</td><td>MA</td></tr><tr><td>2021</td><td>GNV</td><td>2.916</td><td>MT</td><td>4.849</td><td>DF</td></tr><tr><td>2022</td><td>GNV</td><td>3.261</td><td>MT</td><td>6.677</td><td>DF</td></tr><tr><td>2023</td><td>GNV</td><td>3.536</td><td>MT</td><td>6.529</td><td>DF</td></tr><tr><td>2024</td><td>GNV</td><td>3.564</td><td>MT</td><td>6.69</td><td>DF</td></tr></tbody></table></div>"
      ]
     },
     "metadata": {
      "application/vnd.databricks.v1+output": {
       "addedWidgets": {},
       "aggData": [],
       "aggError": "",
       "aggOverflow": false,
       "aggSchema": [],
       "aggSeriesLimitReached": false,
       "aggType": "",
       "arguments": {},
       "columnCustomDisplayInfos": {},
       "data": [
        [
         2014,
         "GNV",
         1.766,
         "RJ",
         2.313,
         "GO"
        ],
        [
         2015,
         "GNV",
         1.927,
         "RJ",
         2.899,
         "MA"
        ],
        [
         2016,
         "GNV",
         2.096,
         "SP",
         3.049,
         "TO"
        ],
        [
         2017,
         "GNV",
         1.973,
         "SC",
         3.022,
         "PI"
        ],
        [
         2018,
         "GNV",
         2.34,
         "SC",
         3.89,
         "GO"
        ],
        [
         2019,
         "GNV",
         2.809,
         "PE",
         4.559,
         "PA"
        ],
        [
         2020,
         "GNV",
         2.43,
         "GO",
         4.779,
         "MA"
        ],
        [
         2021,
         "GNV",
         2.916,
         "MT",
         4.849,
         "DF"
        ],
        [
         2022,
         "GNV",
         3.261,
         "MT",
         6.677,
         "DF"
        ],
        [
         2023,
         "GNV",
         3.536,
         "MT",
         6.529,
         "DF"
        ],
        [
         2024,
         "GNV",
         3.564,
         "MT",
         6.69,
         "DF"
        ]
       ],
       "datasetInfos": [],
       "dbfsResultPath": null,
       "isJsonSchema": true,
       "metadata": {},
       "overflow": false,
       "plotOptions": {
        "customPlotOptions": {},
        "displayType": "table",
        "pivotAggregation": null,
        "pivotColumns": null,
        "xColumns": null,
        "yColumns": null
       },
       "removedWidgets": [],
       "schema": [
        {
         "metadata": "{}",
         "name": "Ano",
         "type": "\"long\""
        },
        {
         "metadata": "{}",
         "name": "Produto",
         "type": "\"string\""
        },
        {
         "metadata": "{}",
         "name": "Preço Mínimo",
         "type": "\"double\""
        },
        {
         "metadata": "{}",
         "name": "Estado Mínimo",
         "type": "\"string\""
        },
        {
         "metadata": "{}",
         "name": "Preço Máximo",
         "type": "\"double\""
        },
        {
         "metadata": "{}",
         "name": "Estado Máximo",
         "type": "\"string\""
        }
       ],
       "type": "table"
      }
     },
     "output_type": "display_data"
    },
    {
     "output_type": "display_data",
     "data": {
      "text/html": [
       "<style scoped>\n",
       "  .table-result-container {\n",
       "    max-height: 300px;\n",
       "    overflow: auto;\n",
       "  }\n",
       "  table, th, td {\n",
       "    border: 1px solid black;\n",
       "    border-collapse: collapse;\n",
       "  }\n",
       "  th, td {\n",
       "    padding: 5px;\n",
       "  }\n",
       "  th {\n",
       "    text-align: left;\n",
       "  }\n",
       "</style><div class='table-result-container'><table class='table-result'><thead style='background-color: white'><tr><th>Ano</th><th>Produto</th><th>Preço Mínimo</th><th>Estado Mínimo</th><th>Preço Máximo</th><th>Estado Máximo</th></tr></thead><tbody><tr><td>2020</td><td>GASOLINA ADITIVADA</td><td>4.186</td><td>AP</td><td>5.082</td><td>AC</td></tr><tr><td>2021</td><td>GASOLINA ADITIVADA</td><td>5.364</td><td>AP</td><td>6.565</td><td>RJ</td></tr><tr><td>2022</td><td>GASOLINA ADITIVADA</td><td>5.767</td><td>AP</td><td>6.934</td><td>PI</td></tr><tr><td>2023</td><td>GASOLINA ADITIVADA</td><td>5.555</td><td>DF</td><td>6.363</td><td>AC</td></tr><tr><td>2024</td><td>GASOLINA ADITIVADA</td><td>5.957</td><td>DF</td><td>7.203</td><td>AC</td></tr></tbody></table></div>"
      ]
     },
     "metadata": {
      "application/vnd.databricks.v1+output": {
       "addedWidgets": {},
       "aggData": [],
       "aggError": "",
       "aggOverflow": false,
       "aggSchema": [],
       "aggSeriesLimitReached": false,
       "aggType": "",
       "arguments": {},
       "columnCustomDisplayInfos": {},
       "data": [
        [
         2020,
         "GASOLINA ADITIVADA",
         4.186,
         "AP",
         5.082,
         "AC"
        ],
        [
         2021,
         "GASOLINA ADITIVADA",
         5.364,
         "AP",
         6.565,
         "RJ"
        ],
        [
         2022,
         "GASOLINA ADITIVADA",
         5.767,
         "AP",
         6.934,
         "PI"
        ],
        [
         2023,
         "GASOLINA ADITIVADA",
         5.555,
         "DF",
         6.363,
         "AC"
        ],
        [
         2024,
         "GASOLINA ADITIVADA",
         5.957,
         "DF",
         7.203,
         "AC"
        ]
       ],
       "datasetInfos": [],
       "dbfsResultPath": null,
       "isJsonSchema": true,
       "metadata": {},
       "overflow": false,
       "plotOptions": {
        "customPlotOptions": {},
        "displayType": "table",
        "pivotAggregation": null,
        "pivotColumns": null,
        "xColumns": null,
        "yColumns": null
       },
       "removedWidgets": [],
       "schema": [
        {
         "metadata": "{}",
         "name": "Ano",
         "type": "\"long\""
        },
        {
         "metadata": "{}",
         "name": "Produto",
         "type": "\"string\""
        },
        {
         "metadata": "{}",
         "name": "Preço Mínimo",
         "type": "\"double\""
        },
        {
         "metadata": "{}",
         "name": "Estado Mínimo",
         "type": "\"string\""
        },
        {
         "metadata": "{}",
         "name": "Preço Máximo",
         "type": "\"double\""
        },
        {
         "metadata": "{}",
         "name": "Estado Máximo",
         "type": "\"string\""
        }
       ],
       "type": "table"
      }
     },
     "output_type": "display_data"
    }
   ],
   "source": [
    "## 6. Diferença de Preço entre Estados\n",
    "\n",
    "df_limpo[\"Ano\"] = df_limpo[\"Data da Coleta\"].dt.year\n",
    "\n",
    "df_agrupado = df_limpo.groupby([\"Ano\", \"Produto\", \"Estado - Sigla\"])[\"Valor de Venda\"].mean().reset_index()\n",
    "\n",
    "minimos = df_agrupado.loc[df_agrupado.groupby([\"Ano\", \"Produto\"])[\"Valor de Venda\"].idxmin()].copy()\n",
    "minimos.rename(columns={\n",
    "    \"Valor de Venda\": \"Preço Mínimo\",\n",
    "    \"Estado - Sigla\": \"Estado Mínimo\"\n",
    "}, inplace=True)\n",
    "\n",
    "maximos = df_agrupado.loc[df_agrupado.groupby([\"Ano\", \"Produto\"])[\"Valor de Venda\"].idxmax()].copy()\n",
    "maximos.rename(columns={\n",
    "    \"Valor de Venda\": \"Preço Máximo\",\n",
    "    \"Estado - Sigla\": \"Estado Máximo\"\n",
    "}, inplace=True)\n",
    "\n",
    "df_extremos = pd.merge(\n",
    "    minimos[[\"Ano\", \"Produto\", \"Preço Mínimo\", \"Estado Mínimo\"]],\n",
    "    maximos[[\"Ano\", \"Produto\", \"Preço Máximo\", \"Estado Máximo\"]],\n",
    "    on=[\"Ano\", \"Produto\"]\n",
    ")\n",
    "\n",
    "df_extremos[\"Preço Mínimo\"] = df_extremos[\"Preço Mínimo\"].round(3)\n",
    "df_extremos[\"Preço Máximo\"] = df_extremos[\"Preço Máximo\"].round(3)\n",
    "\n",
    "\n",
    "produtos = df_extremos[\"Produto\"].unique()\n",
    "\n",
    "for produto in produtos:\n",
    "    tabela = df_extremos[df_extremos[\"Produto\"] == produto].sort_values(\"Ano\")\n",
    "    display(tabela)\n"
   ]
  },
  {
   "cell_type": "code",
   "execution_count": 0,
   "metadata": {
    "application/vnd.databricks.v1+cell": {
     "cellMetadata": {
      "byteLimit": 2048000,
      "rowLimit": 10000
     },
     "inputWidgets": {},
     "nuid": "bf9db82a-8a5a-443f-91a9-d7c7ea05cf7d",
     "showTitle": false,
     "tableResultSettingsMap": {},
     "title": ""
    }
   },
   "outputs": [
    {
     "output_type": "display_data",
     "data": {
      "text/html": [
       "<style scoped>\n",
       "  .table-result-container {\n",
       "    max-height: 300px;\n",
       "    overflow: auto;\n",
       "  }\n",
       "  table, th, td {\n",
       "    border: 1px solid black;\n",
       "    border-collapse: collapse;\n",
       "  }\n",
       "  th, td {\n",
       "    padding: 5px;\n",
       "  }\n",
       "  th {\n",
       "    text-align: left;\n",
       "  }\n",
       "</style><div class='table-result-container'><table class='table-result'><thead style='background-color: white'><tr><th>Produto</th><th>Bandeira</th><th>media_preco</th><th>desvio_preco</th><th>total_pontos</th></tr></thead><tbody><tr><td>DIESEL</td><td>COSAN LUBRIFICANTES</td><td>2.545</td><td>0.137</td><td>15794</td></tr><tr><td>DIESEL</td><td>LATINA</td><td>2.687</td><td>0.211</td><td>2152</td></tr><tr><td>DIESEL</td><td>SATELITE</td><td>2.713</td><td>0.288</td><td>1638</td></tr><tr><td>DIESEL</td><td>ALE COMBUSTÃVEIS</td><td>2.812</td><td>0.308</td><td>4609</td></tr><tr><td>DIESEL</td><td>CBPI</td><td>2.853</td><td>0.23</td><td>1307</td></tr><tr><td>DIESEL</td><td>MEGAPETRO</td><td>2.912</td><td>0.35</td><td>1507</td></tr><tr><td>DIESEL</td><td>ZEMA</td><td>3.033</td><td>0.399</td><td>3047</td></tr><tr><td>DIESEL</td><td>PETROBRAS DISTRIBUIDORA S.A.</td><td>3.108</td><td>0.461</td><td>328219</td></tr><tr><td>DIESEL</td><td>PETROSERRA</td><td>3.143</td><td>0.798</td><td>2165</td></tr><tr><td>DIESEL</td><td>SETTA DISTRIBUIDORA</td><td>3.244</td><td>1.06</td><td>1468</td></tr><tr><td>DIESEL</td><td>DISLUB</td><td>3.338</td><td>1.235</td><td>1702</td></tr><tr><td>DIESEL</td><td>SP</td><td>3.391</td><td>1.053</td><td>6567</td></tr><tr><td>DIESEL</td><td>PETROBAHIA</td><td>3.45</td><td>1.132</td><td>3067</td></tr><tr><td>DIESEL</td><td>ATLÃNTICA</td><td>3.476</td><td>1.121</td><td>2377</td></tr><tr><td>DIESEL</td><td>RIO BRANCO</td><td>3.59</td><td>1.202</td><td>2553</td></tr><tr><td>DIESEL</td><td>CIAPETRO</td><td>3.607</td><td>1.231</td><td>4487</td></tr><tr><td>DIESEL</td><td>ALESAT</td><td>3.643</td><td>1.28</td><td>46108</td></tr><tr><td>DIESEL</td><td>FAN</td><td>3.645</td><td>1.263</td><td>2191</td></tr><tr><td>DIESEL</td><td>BRANCA</td><td>3.703</td><td>1.318</td><td>586760</td></tr><tr><td>DIESEL</td><td>SIMARELLI</td><td>3.711</td><td>1.082</td><td>1988</td></tr><tr><td>DIESEL</td><td>PETROX DISTRIBUIDORA</td><td>3.764</td><td>1.318</td><td>1124</td></tr><tr><td>DIESEL</td><td>POTENCIAL</td><td>3.774</td><td>1.459</td><td>2276</td></tr><tr><td>DIESEL</td><td>RAIZEN MIME</td><td>3.793</td><td>1.283</td><td>4197</td></tr><tr><td>DIESEL</td><td>RAIZEN</td><td>3.812</td><td>1.306</td><td>204066</td></tr><tr><td>DIESEL</td><td>CHARRUA</td><td>3.865</td><td>1.406</td><td>4389</td></tr><tr><td>DIESEL</td><td>IPIRANGA</td><td>3.871</td><td>1.376</td><td>266203</td></tr><tr><td>DIESEL</td><td>IDAZA</td><td>4.062</td><td>1.338</td><td>2672</td></tr><tr><td>DIESEL</td><td>SABBÃ</td><td>4.086</td><td>1.441</td><td>19864</td></tr><tr><td>DIESEL</td><td>ATEM' S</td><td>4.154</td><td>1.435</td><td>9389</td></tr><tr><td>DIESEL</td><td>EQUADOR</td><td>4.182</td><td>1.461</td><td>6916</td></tr><tr><td>DIESEL</td><td>STANG</td><td>4.319</td><td>1.423</td><td>1656</td></tr><tr><td>DIESEL</td><td>TAURUS</td><td>4.322</td><td>1.412</td><td>4694</td></tr><tr><td>DIESEL</td><td>RODOIL</td><td>4.539</td><td>1.43</td><td>3689</td></tr><tr><td>DIESEL</td><td>VIBRA ENERGIA</td><td>5.87</td><td>1.011</td><td>48452</td></tr><tr><td>DIESEL</td><td>ALE</td><td>5.934</td><td>0.278</td><td>1935</td></tr><tr><td>DIESEL</td><td>VIBRA</td><td>6.038</td><td>0.473</td><td>29055</td></tr></tbody></table></div>"
      ]
     },
     "metadata": {
      "application/vnd.databricks.v1+output": {
       "addedWidgets": {},
       "aggData": [],
       "aggError": "",
       "aggOverflow": false,
       "aggSchema": [],
       "aggSeriesLimitReached": false,
       "aggType": "",
       "arguments": {},
       "columnCustomDisplayInfos": {},
       "data": [
        [
         "DIESEL",
         "COSAN LUBRIFICANTES",
         2.545,
         0.137,
         15794
        ],
        [
         "DIESEL",
         "LATINA",
         2.687,
         0.211,
         2152
        ],
        [
         "DIESEL",
         "SATELITE",
         2.713,
         0.288,
         1638
        ],
        [
         "DIESEL",
         "ALE COMBUSTÃVEIS",
         2.812,
         0.308,
         4609
        ],
        [
         "DIESEL",
         "CBPI",
         2.853,
         0.23,
         1307
        ],
        [
         "DIESEL",
         "MEGAPETRO",
         2.912,
         0.35,
         1507
        ],
        [
         "DIESEL",
         "ZEMA",
         3.033,
         0.399,
         3047
        ],
        [
         "DIESEL",
         "PETROBRAS DISTRIBUIDORA S.A.",
         3.108,
         0.461,
         328219
        ],
        [
         "DIESEL",
         "PETROSERRA",
         3.143,
         0.798,
         2165
        ],
        [
         "DIESEL",
         "SETTA DISTRIBUIDORA",
         3.244,
         1.06,
         1468
        ],
        [
         "DIESEL",
         "DISLUB",
         3.338,
         1.235,
         1702
        ],
        [
         "DIESEL",
         "SP",
         3.391,
         1.053,
         6567
        ],
        [
         "DIESEL",
         "PETROBAHIA",
         3.45,
         1.132,
         3067
        ],
        [
         "DIESEL",
         "ATLÃNTICA",
         3.476,
         1.121,
         2377
        ],
        [
         "DIESEL",
         "RIO BRANCO",
         3.59,
         1.202,
         2553
        ],
        [
         "DIESEL",
         "CIAPETRO",
         3.607,
         1.231,
         4487
        ],
        [
         "DIESEL",
         "ALESAT",
         3.643,
         1.28,
         46108
        ],
        [
         "DIESEL",
         "FAN",
         3.645,
         1.263,
         2191
        ],
        [
         "DIESEL",
         "BRANCA",
         3.703,
         1.318,
         586760
        ],
        [
         "DIESEL",
         "SIMARELLI",
         3.711,
         1.082,
         1988
        ],
        [
         "DIESEL",
         "PETROX DISTRIBUIDORA",
         3.764,
         1.318,
         1124
        ],
        [
         "DIESEL",
         "POTENCIAL",
         3.774,
         1.459,
         2276
        ],
        [
         "DIESEL",
         "RAIZEN MIME",
         3.793,
         1.283,
         4197
        ],
        [
         "DIESEL",
         "RAIZEN",
         3.812,
         1.306,
         204066
        ],
        [
         "DIESEL",
         "CHARRUA",
         3.865,
         1.406,
         4389
        ],
        [
         "DIESEL",
         "IPIRANGA",
         3.871,
         1.376,
         266203
        ],
        [
         "DIESEL",
         "IDAZA",
         4.062,
         1.338,
         2672
        ],
        [
         "DIESEL",
         "SABBÃ",
         4.086,
         1.441,
         19864
        ],
        [
         "DIESEL",
         "ATEM' S",
         4.154,
         1.435,
         9389
        ],
        [
         "DIESEL",
         "EQUADOR",
         4.182,
         1.461,
         6916
        ],
        [
         "DIESEL",
         "STANG",
         4.319,
         1.423,
         1656
        ],
        [
         "DIESEL",
         "TAURUS",
         4.322,
         1.412,
         4694
        ],
        [
         "DIESEL",
         "RODOIL",
         4.539,
         1.43,
         3689
        ],
        [
         "DIESEL",
         "VIBRA ENERGIA",
         5.87,
         1.011,
         48452
        ],
        [
         "DIESEL",
         "ALE",
         5.934,
         0.278,
         1935
        ],
        [
         "DIESEL",
         "VIBRA",
         6.038,
         0.473,
         29055
        ]
       ],
       "datasetInfos": [],
       "dbfsResultPath": null,
       "isJsonSchema": true,
       "metadata": {},
       "overflow": false,
       "plotOptions": {
        "customPlotOptions": {},
        "displayType": "table",
        "pivotAggregation": null,
        "pivotColumns": null,
        "xColumns": null,
        "yColumns": null
       },
       "removedWidgets": [],
       "schema": [
        {
         "metadata": "{}",
         "name": "Produto",
         "type": "\"string\""
        },
        {
         "metadata": "{}",
         "name": "Bandeira",
         "type": "\"string\""
        },
        {
         "metadata": "{}",
         "name": "media_preco",
         "type": "\"double\""
        },
        {
         "metadata": "{}",
         "name": "desvio_preco",
         "type": "\"double\""
        },
        {
         "metadata": "{}",
         "name": "total_pontos",
         "type": "\"long\""
        }
       ],
       "type": "table"
      }
     },
     "output_type": "display_data"
    },
    {
     "output_type": "display_data",
     "data": {
      "text/html": [
       "<style scoped>\n",
       "  .table-result-container {\n",
       "    max-height: 300px;\n",
       "    overflow: auto;\n",
       "  }\n",
       "  table, th, td {\n",
       "    border: 1px solid black;\n",
       "    border-collapse: collapse;\n",
       "  }\n",
       "  th, td {\n",
       "    padding: 5px;\n",
       "  }\n",
       "  th {\n",
       "    text-align: left;\n",
       "  }\n",
       "</style><div class='table-result-container'><table class='table-result'><thead style='background-color: white'><tr><th>Produto</th><th>Bandeira</th><th>media_preco</th><th>desvio_preco</th><th>total_pontos</th></tr></thead><tbody><tr><td>DIESEL S10</td><td>COSAN LUBRIFICANTES</td><td>2.711</td><td>0.143</td><td>14157</td></tr><tr><td>DIESEL S10</td><td>LATINA</td><td>2.911</td><td>0.2</td><td>1262</td></tr><tr><td>DIESEL S10</td><td>FEDERAL</td><td>2.922</td><td>0.321</td><td>1288</td></tr><tr><td>DIESEL S10</td><td>SATELITE</td><td>2.977</td><td>0.315</td><td>1378</td></tr><tr><td>DIESEL S10</td><td>CBPI</td><td>2.991</td><td>0.217</td><td>1316</td></tr><tr><td>DIESEL S10</td><td>ALE COMBUSTÃVEIS</td><td>3.029</td><td>0.31</td><td>4003</td></tr><tr><td>DIESEL S10</td><td>ZEMA</td><td>3.283</td><td>0.359</td><td>1903</td></tr><tr><td>DIESEL S10</td><td>PETROBRAS DISTRIBUIDORA S.A.</td><td>3.316</td><td>0.434</td><td>404654</td></tr><tr><td>DIESEL S10</td><td>PETROSERRA</td><td>3.393</td><td>0.854</td><td>1255</td></tr><tr><td>DIESEL S10</td><td>TDC DISTRIBUIDORA</td><td>3.443</td><td>1.037</td><td>3561</td></tr><tr><td>DIESEL S10</td><td>DISLUB</td><td>3.703</td><td>1.306</td><td>5373</td></tr><tr><td>DIESEL S10</td><td>SETTA DISTRIBUIDORA</td><td>3.748</td><td>1.192</td><td>2639</td></tr><tr><td>DIESEL S10</td><td>SP</td><td>3.923</td><td>1.266</td><td>11819</td></tr><tr><td>DIESEL S10</td><td>CIAPETRO</td><td>4.023</td><td>1.331</td><td>3560</td></tr><tr><td>DIESEL S10</td><td>DIBRAPE</td><td>4.089</td><td>1.335</td><td>1112</td></tr><tr><td>DIESEL S10</td><td>RAIZEN</td><td>4.094</td><td>1.318</td><td>317174</td></tr><tr><td>DIESEL S10</td><td>FAN</td><td>4.115</td><td>1.319</td><td>1712</td></tr><tr><td>DIESEL S10</td><td>RAIZEN MIME</td><td>4.121</td><td>1.311</td><td>8445</td></tr><tr><td>DIESEL S10</td><td>SIMARELLI</td><td>4.132</td><td>1.204</td><td>2236</td></tr><tr><td>DIESEL S10</td><td>SABBÃ</td><td>4.144</td><td>1.363</td><td>27543</td></tr><tr><td>DIESEL S10</td><td>ATLÃNTICA</td><td>4.147</td><td>1.372</td><td>2379</td></tr><tr><td>DIESEL S10</td><td>IPIRANGA</td><td>4.148</td><td>1.384</td><td>415086</td></tr><tr><td>DIESEL S10</td><td>PETROBAHIA</td><td>4.179</td><td>1.371</td><td>2174</td></tr><tr><td>DIESEL S10</td><td>CHARRUA</td><td>4.207</td><td>1.41</td><td>4134</td></tr><tr><td>DIESEL S10</td><td>RIO BRANCO</td><td>4.235</td><td>1.327</td><td>1921</td></tr><tr><td>DIESEL S10</td><td>IDAZA</td><td>4.236</td><td>1.323</td><td>2854</td></tr><tr><td>DIESEL S10</td><td>ALESAT</td><td>4.244</td><td>1.393</td><td>50265</td></tr><tr><td>DIESEL S10</td><td>BRANCA</td><td>4.254</td><td>1.396</td><td>616722</td></tr><tr><td>DIESEL S10</td><td>PETROX DISTRIBUIDORA</td><td>4.28</td><td>1.326</td><td>2773</td></tr><tr><td>DIESEL S10</td><td>POTENCIAL</td><td>4.304</td><td>1.497</td><td>2023</td></tr><tr><td>DIESEL S10</td><td>STANG</td><td>4.308</td><td>1.387</td><td>3023</td></tr><tr><td>DIESEL S10</td><td>TAURUS</td><td>4.448</td><td>1.385</td><td>5649</td></tr><tr><td>DIESEL S10</td><td>EQUADOR</td><td>4.499</td><td>1.502</td><td>7107</td></tr><tr><td>DIESEL S10</td><td>ATEM' S</td><td>4.662</td><td>1.491</td><td>8429</td></tr><tr><td>DIESEL S10</td><td>LARCO</td><td>4.685</td><td>1.523</td><td>1035</td></tr><tr><td>DIESEL S10</td><td>RODOIL</td><td>4.879</td><td>1.38</td><td>5335</td></tr><tr><td>DIESEL S10</td><td>MAXSUL</td><td>4.909</td><td>1.336</td><td>1658</td></tr><tr><td>DIESEL S10</td><td>SABBÁ</td><td>5.223</td><td>0.426</td><td>1240</td></tr><tr><td>DIESEL S10</td><td>VIBRA ENERGIA</td><td>5.952</td><td>1.05</td><td>91573</td></tr><tr><td>DIESEL S10</td><td>ALE</td><td>6.034</td><td>0.279</td><td>3619</td></tr><tr><td>DIESEL S10</td><td>TOTALENERGIES</td><td>6.05</td><td>0.601</td><td>1046</td></tr><tr><td>DIESEL S10</td><td>VIBRA</td><td>6.108</td><td>0.467</td><td>45147</td></tr></tbody></table></div>"
      ]
     },
     "metadata": {
      "application/vnd.databricks.v1+output": {
       "addedWidgets": {},
       "aggData": [],
       "aggError": "",
       "aggOverflow": false,
       "aggSchema": [],
       "aggSeriesLimitReached": false,
       "aggType": "",
       "arguments": {},
       "columnCustomDisplayInfos": {},
       "data": [
        [
         "DIESEL S10",
         "COSAN LUBRIFICANTES",
         2.711,
         0.143,
         14157
        ],
        [
         "DIESEL S10",
         "LATINA",
         2.911,
         0.2,
         1262
        ],
        [
         "DIESEL S10",
         "FEDERAL",
         2.922,
         0.321,
         1288
        ],
        [
         "DIESEL S10",
         "SATELITE",
         2.977,
         0.315,
         1378
        ],
        [
         "DIESEL S10",
         "CBPI",
         2.991,
         0.217,
         1316
        ],
        [
         "DIESEL S10",
         "ALE COMBUSTÃVEIS",
         3.029,
         0.31,
         4003
        ],
        [
         "DIESEL S10",
         "ZEMA",
         3.283,
         0.359,
         1903
        ],
        [
         "DIESEL S10",
         "PETROBRAS DISTRIBUIDORA S.A.",
         3.316,
         0.434,
         404654
        ],
        [
         "DIESEL S10",
         "PETROSERRA",
         3.393,
         0.854,
         1255
        ],
        [
         "DIESEL S10",
         "TDC DISTRIBUIDORA",
         3.443,
         1.037,
         3561
        ],
        [
         "DIESEL S10",
         "DISLUB",
         3.703,
         1.306,
         5373
        ],
        [
         "DIESEL S10",
         "SETTA DISTRIBUIDORA",
         3.748,
         1.192,
         2639
        ],
        [
         "DIESEL S10",
         "SP",
         3.923,
         1.266,
         11819
        ],
        [
         "DIESEL S10",
         "CIAPETRO",
         4.023,
         1.331,
         3560
        ],
        [
         "DIESEL S10",
         "DIBRAPE",
         4.089,
         1.335,
         1112
        ],
        [
         "DIESEL S10",
         "RAIZEN",
         4.094,
         1.318,
         317174
        ],
        [
         "DIESEL S10",
         "FAN",
         4.115,
         1.319,
         1712
        ],
        [
         "DIESEL S10",
         "RAIZEN MIME",
         4.121,
         1.311,
         8445
        ],
        [
         "DIESEL S10",
         "SIMARELLI",
         4.132,
         1.204,
         2236
        ],
        [
         "DIESEL S10",
         "SABBÃ",
         4.144,
         1.363,
         27543
        ],
        [
         "DIESEL S10",
         "ATLÃNTICA",
         4.147,
         1.372,
         2379
        ],
        [
         "DIESEL S10",
         "IPIRANGA",
         4.148,
         1.384,
         415086
        ],
        [
         "DIESEL S10",
         "PETROBAHIA",
         4.179,
         1.371,
         2174
        ],
        [
         "DIESEL S10",
         "CHARRUA",
         4.207,
         1.41,
         4134
        ],
        [
         "DIESEL S10",
         "RIO BRANCO",
         4.235,
         1.327,
         1921
        ],
        [
         "DIESEL S10",
         "IDAZA",
         4.236,
         1.323,
         2854
        ],
        [
         "DIESEL S10",
         "ALESAT",
         4.244,
         1.393,
         50265
        ],
        [
         "DIESEL S10",
         "BRANCA",
         4.254,
         1.396,
         616722
        ],
        [
         "DIESEL S10",
         "PETROX DISTRIBUIDORA",
         4.28,
         1.326,
         2773
        ],
        [
         "DIESEL S10",
         "POTENCIAL",
         4.304,
         1.497,
         2023
        ],
        [
         "DIESEL S10",
         "STANG",
         4.308,
         1.387,
         3023
        ],
        [
         "DIESEL S10",
         "TAURUS",
         4.448,
         1.385,
         5649
        ],
        [
         "DIESEL S10",
         "EQUADOR",
         4.499,
         1.502,
         7107
        ],
        [
         "DIESEL S10",
         "ATEM' S",
         4.662,
         1.491,
         8429
        ],
        [
         "DIESEL S10",
         "LARCO",
         4.685,
         1.523,
         1035
        ],
        [
         "DIESEL S10",
         "RODOIL",
         4.879,
         1.38,
         5335
        ],
        [
         "DIESEL S10",
         "MAXSUL",
         4.909,
         1.336,
         1658
        ],
        [
         "DIESEL S10",
         "SABBÁ",
         5.223,
         0.426,
         1240
        ],
        [
         "DIESEL S10",
         "VIBRA ENERGIA",
         5.952,
         1.05,
         91573
        ],
        [
         "DIESEL S10",
         "ALE",
         6.034,
         0.279,
         3619
        ],
        [
         "DIESEL S10",
         "TOTALENERGIES",
         6.05,
         0.601,
         1046
        ],
        [
         "DIESEL S10",
         "VIBRA",
         6.108,
         0.467,
         45147
        ]
       ],
       "datasetInfos": [],
       "dbfsResultPath": null,
       "isJsonSchema": true,
       "metadata": {},
       "overflow": false,
       "plotOptions": {
        "customPlotOptions": {},
        "displayType": "table",
        "pivotAggregation": null,
        "pivotColumns": null,
        "xColumns": null,
        "yColumns": null
       },
       "removedWidgets": [],
       "schema": [
        {
         "metadata": "{}",
         "name": "Produto",
         "type": "\"string\""
        },
        {
         "metadata": "{}",
         "name": "Bandeira",
         "type": "\"string\""
        },
        {
         "metadata": "{}",
         "name": "media_preco",
         "type": "\"double\""
        },
        {
         "metadata": "{}",
         "name": "desvio_preco",
         "type": "\"double\""
        },
        {
         "metadata": "{}",
         "name": "total_pontos",
         "type": "\"long\""
        }
       ],
       "type": "table"
      }
     },
     "output_type": "display_data"
    },
    {
     "output_type": "display_data",
     "data": {
      "text/html": [
       "<style scoped>\n",
       "  .table-result-container {\n",
       "    max-height: 300px;\n",
       "    overflow: auto;\n",
       "  }\n",
       "  table, th, td {\n",
       "    border: 1px solid black;\n",
       "    border-collapse: collapse;\n",
       "  }\n",
       "  th, td {\n",
       "    padding: 5px;\n",
       "  }\n",
       "  th {\n",
       "    text-align: left;\n",
       "  }\n",
       "</style><div class='table-result-container'><table class='table-result'><thead style='background-color: white'><tr><th>Produto</th><th>Bandeira</th><th>media_preco</th><th>desvio_preco</th><th>total_pontos</th></tr></thead><tbody><tr><td>ETANOL</td><td>AGIP DISTRIBUIDORA</td><td>2.222</td><td>0.263</td><td>1305</td></tr><tr><td>ETANOL</td><td>COSAN LUBRIFICANTES</td><td>2.251</td><td>0.284</td><td>23793</td></tr><tr><td>ETANOL</td><td>COSAN</td><td>2.286</td><td>0.262</td><td>1154</td></tr><tr><td>ETANOL</td><td>RUFF C.J.</td><td>2.338</td><td>0.585</td><td>1461</td></tr><tr><td>ETANOL</td><td>ALE COMBUSTÃVEIS</td><td>2.529</td><td>0.513</td><td>6887</td></tr><tr><td>ETANOL</td><td>CBPI</td><td>2.568</td><td>0.441</td><td>1954</td></tr><tr><td>ETANOL</td><td>ZEMA</td><td>2.659</td><td>0.401</td><td>3927</td></tr><tr><td>ETANOL</td><td>LATINA</td><td>2.699</td><td>0.401</td><td>1631</td></tr><tr><td>ETANOL</td><td>FEDERAL</td><td>2.715</td><td>0.397</td><td>1780</td></tr><tr><td>ETANOL</td><td>SATELITE</td><td>2.726</td><td>0.397</td><td>1692</td></tr><tr><td>ETANOL</td><td>REJAILE</td><td>2.877</td><td>0.635</td><td>1086</td></tr><tr><td>ETANOL</td><td>PETROBRAS DISTRIBUIDORA S.A.</td><td>2.88</td><td>0.566</td><td>473875</td></tr><tr><td>ETANOL</td><td>IDAZA</td><td>2.978</td><td>0.912</td><td>3972</td></tr><tr><td>ETANOL</td><td>CIAPETRO</td><td>3.01</td><td>0.852</td><td>6018</td></tr><tr><td>ETANOL</td><td>SIMARELLI</td><td>3.016</td><td>0.865</td><td>2980</td></tr><tr><td>ETANOL</td><td>PETROSERRA</td><td>3.048</td><td>0.78</td><td>2083</td></tr><tr><td>ETANOL</td><td>RIO BRANCO</td><td>3.068</td><td>0.888</td><td>3363</td></tr><tr><td>ETANOL</td><td>TDC DISTRIBUIDORA</td><td>3.151</td><td>0.867</td><td>3583</td></tr><tr><td>ETANOL</td><td>MEGAPETRO</td><td>3.18</td><td>0.635</td><td>1348</td></tr><tr><td>ETANOL</td><td>BRANCA</td><td>3.207</td><td>0.974</td><td>907219</td></tr><tr><td>ETANOL</td><td>POTENCIAL</td><td>3.22</td><td>0.898</td><td>2214</td></tr><tr><td>ETANOL</td><td>ALESAT</td><td>3.26</td><td>0.936</td><td>71137</td></tr><tr><td>ETANOL</td><td>SETTA DISTRIBUIDORA</td><td>3.261</td><td>0.92</td><td>3109</td></tr><tr><td>ETANOL</td><td>IPIRANGA</td><td>3.275</td><td>0.949</td><td>465490</td></tr><tr><td>ETANOL</td><td>RAIZEN</td><td>3.312</td><td>0.955</td><td>392670</td></tr><tr><td>ETANOL</td><td>PETROBAHIA</td><td>3.34</td><td>0.958</td><td>3297</td></tr><tr><td>ETANOL</td><td>DISLUB</td><td>3.346</td><td>1.033</td><td>4936</td></tr><tr><td>ETANOL</td><td>ATLÃNTICA</td><td>3.42</td><td>0.806</td><td>1902</td></tr><tr><td>ETANOL</td><td>TAURUS</td><td>3.472</td><td>0.891</td><td>6342</td></tr><tr><td>ETANOL</td><td>SP</td><td>3.473</td><td>0.916</td><td>11368</td></tr><tr><td>ETANOL</td><td>FAN</td><td>3.551</td><td>0.952</td><td>2156</td></tr><tr><td>ETANOL</td><td>LARCO</td><td>3.682</td><td>0.915</td><td>1222</td></tr><tr><td>ETANOL</td><td>ATEM' S</td><td>3.729</td><td>0.891</td><td>8561</td></tr><tr><td>ETANOL</td><td>STANG</td><td>3.739</td><td>0.845</td><td>3468</td></tr><tr><td>ETANOL</td><td>CHARRUA</td><td>3.762</td><td>0.977</td><td>3520</td></tr><tr><td>ETANOL</td><td>PETROX DISTRIBUIDORA</td><td>3.817</td><td>0.975</td><td>2994</td></tr><tr><td>ETANOL</td><td>EQUADOR</td><td>3.84</td><td>1.029</td><td>3215</td></tr><tr><td>ETANOL</td><td>SABBÃ</td><td>3.85</td><td>0.935</td><td>16512</td></tr><tr><td>ETANOL</td><td>RAIZEN MIME</td><td>3.925</td><td>1.051</td><td>7721</td></tr><tr><td>ETANOL</td><td>RODOIL</td><td>3.941</td><td>1.116</td><td>3995</td></tr><tr><td>ETANOL</td><td>VIBRA</td><td>4.162</td><td>0.547</td><td>56939</td></tr><tr><td>ETANOL</td><td>TOTALENERGIES</td><td>4.216</td><td>0.72</td><td>1351</td></tr><tr><td>ETANOL</td><td>ALE</td><td>4.272</td><td>0.442</td><td>4025</td></tr><tr><td>ETANOL</td><td>VIBRA ENERGIA</td><td>4.828</td><td>0.813</td><td>97223</td></tr></tbody></table></div>"
      ]
     },
     "metadata": {
      "application/vnd.databricks.v1+output": {
       "addedWidgets": {},
       "aggData": [],
       "aggError": "",
       "aggOverflow": false,
       "aggSchema": [],
       "aggSeriesLimitReached": false,
       "aggType": "",
       "arguments": {},
       "columnCustomDisplayInfos": {},
       "data": [
        [
         "ETANOL",
         "AGIP DISTRIBUIDORA",
         2.222,
         0.263,
         1305
        ],
        [
         "ETANOL",
         "COSAN LUBRIFICANTES",
         2.251,
         0.284,
         23793
        ],
        [
         "ETANOL",
         "COSAN",
         2.286,
         0.262,
         1154
        ],
        [
         "ETANOL",
         "RUFF C.J.",
         2.338,
         0.585,
         1461
        ],
        [
         "ETANOL",
         "ALE COMBUSTÃVEIS",
         2.529,
         0.513,
         6887
        ],
        [
         "ETANOL",
         "CBPI",
         2.568,
         0.441,
         1954
        ],
        [
         "ETANOL",
         "ZEMA",
         2.659,
         0.401,
         3927
        ],
        [
         "ETANOL",
         "LATINA",
         2.699,
         0.401,
         1631
        ],
        [
         "ETANOL",
         "FEDERAL",
         2.715,
         0.397,
         1780
        ],
        [
         "ETANOL",
         "SATELITE",
         2.726,
         0.397,
         1692
        ],
        [
         "ETANOL",
         "REJAILE",
         2.877,
         0.635,
         1086
        ],
        [
         "ETANOL",
         "PETROBRAS DISTRIBUIDORA S.A.",
         2.88,
         0.566,
         473875
        ],
        [
         "ETANOL",
         "IDAZA",
         2.978,
         0.912,
         3972
        ],
        [
         "ETANOL",
         "CIAPETRO",
         3.01,
         0.852,
         6018
        ],
        [
         "ETANOL",
         "SIMARELLI",
         3.016,
         0.865,
         2980
        ],
        [
         "ETANOL",
         "PETROSERRA",
         3.048,
         0.78,
         2083
        ],
        [
         "ETANOL",
         "RIO BRANCO",
         3.068,
         0.888,
         3363
        ],
        [
         "ETANOL",
         "TDC DISTRIBUIDORA",
         3.151,
         0.867,
         3583
        ],
        [
         "ETANOL",
         "MEGAPETRO",
         3.18,
         0.635,
         1348
        ],
        [
         "ETANOL",
         "BRANCA",
         3.207,
         0.974,
         907219
        ],
        [
         "ETANOL",
         "POTENCIAL",
         3.22,
         0.898,
         2214
        ],
        [
         "ETANOL",
         "ALESAT",
         3.26,
         0.936,
         71137
        ],
        [
         "ETANOL",
         "SETTA DISTRIBUIDORA",
         3.261,
         0.92,
         3109
        ],
        [
         "ETANOL",
         "IPIRANGA",
         3.275,
         0.949,
         465490
        ],
        [
         "ETANOL",
         "RAIZEN",
         3.312,
         0.955,
         392670
        ],
        [
         "ETANOL",
         "PETROBAHIA",
         3.34,
         0.958,
         3297
        ],
        [
         "ETANOL",
         "DISLUB",
         3.346,
         1.033,
         4936
        ],
        [
         "ETANOL",
         "ATLÃNTICA",
         3.42,
         0.806,
         1902
        ],
        [
         "ETANOL",
         "TAURUS",
         3.472,
         0.891,
         6342
        ],
        [
         "ETANOL",
         "SP",
         3.473,
         0.916,
         11368
        ],
        [
         "ETANOL",
         "FAN",
         3.551,
         0.952,
         2156
        ],
        [
         "ETANOL",
         "LARCO",
         3.682,
         0.915,
         1222
        ],
        [
         "ETANOL",
         "ATEM' S",
         3.729,
         0.891,
         8561
        ],
        [
         "ETANOL",
         "STANG",
         3.739,
         0.845,
         3468
        ],
        [
         "ETANOL",
         "CHARRUA",
         3.762,
         0.977,
         3520
        ],
        [
         "ETANOL",
         "PETROX DISTRIBUIDORA",
         3.817,
         0.975,
         2994
        ],
        [
         "ETANOL",
         "EQUADOR",
         3.84,
         1.029,
         3215
        ],
        [
         "ETANOL",
         "SABBÃ",
         3.85,
         0.935,
         16512
        ],
        [
         "ETANOL",
         "RAIZEN MIME",
         3.925,
         1.051,
         7721
        ],
        [
         "ETANOL",
         "RODOIL",
         3.941,
         1.116,
         3995
        ],
        [
         "ETANOL",
         "VIBRA",
         4.162,
         0.547,
         56939
        ],
        [
         "ETANOL",
         "TOTALENERGIES",
         4.216,
         0.72,
         1351
        ],
        [
         "ETANOL",
         "ALE",
         4.272,
         0.442,
         4025
        ],
        [
         "ETANOL",
         "VIBRA ENERGIA",
         4.828,
         0.813,
         97223
        ]
       ],
       "datasetInfos": [],
       "dbfsResultPath": null,
       "isJsonSchema": true,
       "metadata": {},
       "overflow": false,
       "plotOptions": {
        "customPlotOptions": {},
        "displayType": "table",
        "pivotAggregation": null,
        "pivotColumns": null,
        "xColumns": null,
        "yColumns": null
       },
       "removedWidgets": [],
       "schema": [
        {
         "metadata": "{}",
         "name": "Produto",
         "type": "\"string\""
        },
        {
         "metadata": "{}",
         "name": "Bandeira",
         "type": "\"string\""
        },
        {
         "metadata": "{}",
         "name": "media_preco",
         "type": "\"double\""
        },
        {
         "metadata": "{}",
         "name": "desvio_preco",
         "type": "\"double\""
        },
        {
         "metadata": "{}",
         "name": "total_pontos",
         "type": "\"long\""
        }
       ],
       "type": "table"
      }
     },
     "output_type": "display_data"
    },
    {
     "output_type": "display_data",
     "data": {
      "text/html": [
       "<style scoped>\n",
       "  .table-result-container {\n",
       "    max-height: 300px;\n",
       "    overflow: auto;\n",
       "  }\n",
       "  table, th, td {\n",
       "    border: 1px solid black;\n",
       "    border-collapse: collapse;\n",
       "  }\n",
       "  th, td {\n",
       "    padding: 5px;\n",
       "  }\n",
       "  th {\n",
       "    text-align: left;\n",
       "  }\n",
       "</style><div class='table-result-container'><table class='table-result'><thead style='background-color: white'><tr><th>Produto</th><th>Bandeira</th><th>media_preco</th><th>desvio_preco</th><th>total_pontos</th></tr></thead><tbody><tr><td>GASOLINA</td><td>COSAN</td><td>3.045</td><td>0.173</td><td>1179</td></tr><tr><td>GASOLINA</td><td>COSAN LUBRIFICANTES</td><td>3.049</td><td>0.185</td><td>25661</td></tr><tr><td>GASOLINA</td><td>AGIP DISTRIBUIDORA</td><td>3.188</td><td>0.267</td><td>1305</td></tr><tr><td>GASOLINA</td><td>LATINA</td><td>3.319</td><td>0.368</td><td>2765</td></tr><tr><td>GASOLINA</td><td>SATELITE</td><td>3.359</td><td>0.387</td><td>2278</td></tr><tr><td>GASOLINA</td><td>ALE COMBUSTÃVEIS</td><td>3.413</td><td>0.465</td><td>7289</td></tr><tr><td>GASOLINA</td><td>RUFF C.J.</td><td>3.45</td><td>0.71</td><td>1462</td></tr><tr><td>GASOLINA</td><td>CBPI</td><td>3.46</td><td>0.349</td><td>2434</td></tr><tr><td>GASOLINA</td><td>FEDERAL</td><td>3.509</td><td>0.524</td><td>1824</td></tr><tr><td>GASOLINA</td><td>REJAILE</td><td>3.642</td><td>0.819</td><td>1189</td></tr><tr><td>GASOLINA</td><td>MEGAPETRO</td><td>3.777</td><td>0.639</td><td>2218</td></tr><tr><td>GASOLINA</td><td>ZEMA</td><td>3.833</td><td>0.61</td><td>3976</td></tr><tr><td>GASOLINA</td><td>PETROBRAS DISTRIBUIDORA S.A.</td><td>3.852</td><td>0.623</td><td>516435</td></tr><tr><td>GASOLINA</td><td>PETROSERRA</td><td>3.973</td><td>0.87</td><td>2323</td></tr><tr><td>GASOLINA</td><td>TDC DISTRIBUIDORA</td><td>3.988</td><td>1.052</td><td>3949</td></tr><tr><td>GASOLINA</td><td>SETTA DISTRIBUIDORA</td><td>4.062</td><td>1.096</td><td>3349</td></tr><tr><td>GASOLINA</td><td>AMERICANOIL</td><td>4.125</td><td>1.176</td><td>1313</td></tr><tr><td>GASOLINA</td><td>SIMARELLI</td><td>4.186</td><td>1.03</td><td>2890</td></tr><tr><td>GASOLINA</td><td>DISLUB</td><td>4.224</td><td>1.238</td><td>6271</td></tr><tr><td>GASOLINA</td><td>IDAZA</td><td>4.301</td><td>1.087</td><td>3965</td></tr><tr><td>GASOLINA</td><td>SP</td><td>4.321</td><td>1.116</td><td>14985</td></tr><tr><td>GASOLINA</td><td>PETROBAHIA</td><td>4.325</td><td>1.188</td><td>3443</td></tr><tr><td>GASOLINA</td><td>CIAPETRO</td><td>4.342</td><td>1.051</td><td>5927</td></tr><tr><td>GASOLINA</td><td>ATLÃNTICA</td><td>4.374</td><td>1.063</td><td>3982</td></tr><tr><td>GASOLINA</td><td>ALESAT</td><td>4.386</td><td>1.134</td><td>80402</td></tr><tr><td>GASOLINA</td><td>POTENCIAL</td><td>4.393</td><td>1.225</td><td>3005</td></tr><tr><td>GASOLINA</td><td>FAN</td><td>4.418</td><td>1.187</td><td>2581</td></tr><tr><td>GASOLINA</td><td>RIO BRANCO</td><td>4.423</td><td>1.193</td><td>3367</td></tr><tr><td>GASOLINA</td><td>BRANCA</td><td>4.437</td><td>1.177</td><td>994141</td></tr><tr><td>GASOLINA</td><td>IPIRANGA</td><td>4.467</td><td>1.158</td><td>537367</td></tr><tr><td>GASOLINA</td><td>DIBRAPE</td><td>4.489</td><td>1.178</td><td>1206</td></tr><tr><td>GASOLINA</td><td>CHARRUA</td><td>4.522</td><td>1.142</td><td>6322</td></tr><tr><td>GASOLINA</td><td>RAIZEN</td><td>4.528</td><td>1.144</td><td>423002</td></tr><tr><td>GASOLINA</td><td>SABBÃ</td><td>4.54</td><td>1.142</td><td>32448</td></tr><tr><td>GASOLINA</td><td>RAIZEN MIME</td><td>4.587</td><td>1.141</td><td>11633</td></tr><tr><td>GASOLINA</td><td>TAURUS</td><td>4.675</td><td>1.147</td><td>6364</td></tr><tr><td>GASOLINA</td><td>PETROX DISTRIBUIDORA</td><td>4.736</td><td>1.233</td><td>3153</td></tr><tr><td>GASOLINA</td><td>LARCO</td><td>4.743</td><td>1.281</td><td>1021</td></tr><tr><td>GASOLINA</td><td>ATEM' S</td><td>4.777</td><td>1.244</td><td>12569</td></tr><tr><td>GASOLINA</td><td>TEMAPE</td><td>4.792</td><td>1.284</td><td>1341</td></tr><tr><td>GASOLINA</td><td>STANG</td><td>4.819</td><td>1.043</td><td>3616</td></tr><tr><td>GASOLINA</td><td>EQUADOR</td><td>4.832</td><td>1.205</td><td>9782</td></tr><tr><td>GASOLINA</td><td>RODOIL</td><td>5.15</td><td>1.114</td><td>7193</td></tr><tr><td>GASOLINA</td><td>MAXSUL</td><td>5.235</td><td>1.061</td><td>1577</td></tr><tr><td>GASOLINA</td><td>VIBRA</td><td>5.959</td><td>0.434</td><td>73172</td></tr><tr><td>GASOLINA</td><td>TOTALENERGIES</td><td>6.007</td><td>0.767</td><td>1356</td></tr><tr><td>GASOLINA</td><td>ALE</td><td>6.053</td><td>0.334</td><td>4656</td></tr><tr><td>GASOLINA</td><td>VIBRA ENERGIA</td><td>6.088</td><td>0.852</td><td>111142</td></tr><tr><td>GASOLINA</td><td>SABBÁ</td><td>6.343</td><td>0.407</td><td>1369</td></tr></tbody></table></div>"
      ]
     },
     "metadata": {
      "application/vnd.databricks.v1+output": {
       "addedWidgets": {},
       "aggData": [],
       "aggError": "",
       "aggOverflow": false,
       "aggSchema": [],
       "aggSeriesLimitReached": false,
       "aggType": "",
       "arguments": {},
       "columnCustomDisplayInfos": {},
       "data": [
        [
         "GASOLINA",
         "COSAN",
         3.045,
         0.173,
         1179
        ],
        [
         "GASOLINA",
         "COSAN LUBRIFICANTES",
         3.049,
         0.185,
         25661
        ],
        [
         "GASOLINA",
         "AGIP DISTRIBUIDORA",
         3.188,
         0.267,
         1305
        ],
        [
         "GASOLINA",
         "LATINA",
         3.319,
         0.368,
         2765
        ],
        [
         "GASOLINA",
         "SATELITE",
         3.359,
         0.387,
         2278
        ],
        [
         "GASOLINA",
         "ALE COMBUSTÃVEIS",
         3.413,
         0.465,
         7289
        ],
        [
         "GASOLINA",
         "RUFF C.J.",
         3.45,
         0.71,
         1462
        ],
        [
         "GASOLINA",
         "CBPI",
         3.46,
         0.349,
         2434
        ],
        [
         "GASOLINA",
         "FEDERAL",
         3.509,
         0.524,
         1824
        ],
        [
         "GASOLINA",
         "REJAILE",
         3.642,
         0.819,
         1189
        ],
        [
         "GASOLINA",
         "MEGAPETRO",
         3.777,
         0.639,
         2218
        ],
        [
         "GASOLINA",
         "ZEMA",
         3.833,
         0.61,
         3976
        ],
        [
         "GASOLINA",
         "PETROBRAS DISTRIBUIDORA S.A.",
         3.852,
         0.623,
         516435
        ],
        [
         "GASOLINA",
         "PETROSERRA",
         3.973,
         0.87,
         2323
        ],
        [
         "GASOLINA",
         "TDC DISTRIBUIDORA",
         3.988,
         1.052,
         3949
        ],
        [
         "GASOLINA",
         "SETTA DISTRIBUIDORA",
         4.062,
         1.096,
         3349
        ],
        [
         "GASOLINA",
         "AMERICANOIL",
         4.125,
         1.176,
         1313
        ],
        [
         "GASOLINA",
         "SIMARELLI",
         4.186,
         1.03,
         2890
        ],
        [
         "GASOLINA",
         "DISLUB",
         4.224,
         1.238,
         6271
        ],
        [
         "GASOLINA",
         "IDAZA",
         4.301,
         1.087,
         3965
        ],
        [
         "GASOLINA",
         "SP",
         4.321,
         1.116,
         14985
        ],
        [
         "GASOLINA",
         "PETROBAHIA",
         4.325,
         1.188,
         3443
        ],
        [
         "GASOLINA",
         "CIAPETRO",
         4.342,
         1.051,
         5927
        ],
        [
         "GASOLINA",
         "ATLÃNTICA",
         4.374,
         1.063,
         3982
        ],
        [
         "GASOLINA",
         "ALESAT",
         4.386,
         1.134,
         80402
        ],
        [
         "GASOLINA",
         "POTENCIAL",
         4.393,
         1.225,
         3005
        ],
        [
         "GASOLINA",
         "FAN",
         4.418,
         1.187,
         2581
        ],
        [
         "GASOLINA",
         "RIO BRANCO",
         4.423,
         1.193,
         3367
        ],
        [
         "GASOLINA",
         "BRANCA",
         4.437,
         1.177,
         994141
        ],
        [
         "GASOLINA",
         "IPIRANGA",
         4.467,
         1.158,
         537367
        ],
        [
         "GASOLINA",
         "DIBRAPE",
         4.489,
         1.178,
         1206
        ],
        [
         "GASOLINA",
         "CHARRUA",
         4.522,
         1.142,
         6322
        ],
        [
         "GASOLINA",
         "RAIZEN",
         4.528,
         1.144,
         423002
        ],
        [
         "GASOLINA",
         "SABBÃ",
         4.54,
         1.142,
         32448
        ],
        [
         "GASOLINA",
         "RAIZEN MIME",
         4.587,
         1.141,
         11633
        ],
        [
         "GASOLINA",
         "TAURUS",
         4.675,
         1.147,
         6364
        ],
        [
         "GASOLINA",
         "PETROX DISTRIBUIDORA",
         4.736,
         1.233,
         3153
        ],
        [
         "GASOLINA",
         "LARCO",
         4.743,
         1.281,
         1021
        ],
        [
         "GASOLINA",
         "ATEM' S",
         4.777,
         1.244,
         12569
        ],
        [
         "GASOLINA",
         "TEMAPE",
         4.792,
         1.284,
         1341
        ],
        [
         "GASOLINA",
         "STANG",
         4.819,
         1.043,
         3616
        ],
        [
         "GASOLINA",
         "EQUADOR",
         4.832,
         1.205,
         9782
        ],
        [
         "GASOLINA",
         "RODOIL",
         5.15,
         1.114,
         7193
        ],
        [
         "GASOLINA",
         "MAXSUL",
         5.235,
         1.061,
         1577
        ],
        [
         "GASOLINA",
         "VIBRA",
         5.959,
         0.434,
         73172
        ],
        [
         "GASOLINA",
         "TOTALENERGIES",
         6.007,
         0.767,
         1356
        ],
        [
         "GASOLINA",
         "ALE",
         6.053,
         0.334,
         4656
        ],
        [
         "GASOLINA",
         "VIBRA ENERGIA",
         6.088,
         0.852,
         111142
        ],
        [
         "GASOLINA",
         "SABBÁ",
         6.343,
         0.407,
         1369
        ]
       ],
       "datasetInfos": [],
       "dbfsResultPath": null,
       "isJsonSchema": true,
       "metadata": {},
       "overflow": false,
       "plotOptions": {
        "customPlotOptions": {},
        "displayType": "table",
        "pivotAggregation": null,
        "pivotColumns": null,
        "xColumns": null,
        "yColumns": null
       },
       "removedWidgets": [],
       "schema": [
        {
         "metadata": "{}",
         "name": "Produto",
         "type": "\"string\""
        },
        {
         "metadata": "{}",
         "name": "Bandeira",
         "type": "\"string\""
        },
        {
         "metadata": "{}",
         "name": "media_preco",
         "type": "\"double\""
        },
        {
         "metadata": "{}",
         "name": "desvio_preco",
         "type": "\"double\""
        },
        {
         "metadata": "{}",
         "name": "total_pontos",
         "type": "\"long\""
        }
       ],
       "type": "table"
      }
     },
     "output_type": "display_data"
    },
    {
     "output_type": "display_data",
     "data": {
      "text/html": [
       "<style scoped>\n",
       "  .table-result-container {\n",
       "    max-height: 300px;\n",
       "    overflow: auto;\n",
       "  }\n",
       "  table, th, td {\n",
       "    border: 1px solid black;\n",
       "    border-collapse: collapse;\n",
       "  }\n",
       "  th, td {\n",
       "    padding: 5px;\n",
       "  }\n",
       "  th {\n",
       "    text-align: left;\n",
       "  }\n",
       "</style><div class='table-result-container'><table class='table-result'><thead style='background-color: white'><tr><th>Produto</th><th>Bandeira</th><th>media_preco</th><th>desvio_preco</th><th>total_pontos</th></tr></thead><tbody><tr><td>GASOLINA ADITIVADA</td><td>PETROBRAS DISTRIBUIDORA S.A.</td><td>4.846</td><td>0.374</td><td>7479</td></tr><tr><td>GASOLINA ADITIVADA</td><td>STANG</td><td>5.765</td><td>0.615</td><td>1705</td></tr><tr><td>GASOLINA ADITIVADA</td><td>BRANCA</td><td>5.904</td><td>0.76</td><td>205964</td></tr><tr><td>GASOLINA ADITIVADA</td><td>ALESAT</td><td>5.973</td><td>0.744</td><td>14222</td></tr><tr><td>GASOLINA ADITIVADA</td><td>MAXSUL</td><td>5.986</td><td>0.651</td><td>1045</td></tr><tr><td>GASOLINA ADITIVADA</td><td>IPIRANGA</td><td>6.059</td><td>0.706</td><td>150038</td></tr><tr><td>GASOLINA ADITIVADA</td><td>CHARRUA</td><td>6.079</td><td>0.572</td><td>1928</td></tr><tr><td>GASOLINA ADITIVADA</td><td>RAIZEN MIME</td><td>6.082</td><td>0.673</td><td>3487</td></tr><tr><td>GASOLINA ADITIVADA</td><td>RODOIL</td><td>6.099</td><td>0.687</td><td>3796</td></tr><tr><td>GASOLINA ADITIVADA</td><td>DISLUB</td><td>6.105</td><td>0.723</td><td>1244</td></tr><tr><td>GASOLINA ADITIVADA</td><td>ATEM' S</td><td>6.106</td><td>0.912</td><td>3626</td></tr><tr><td>GASOLINA ADITIVADA</td><td>VIBRA</td><td>6.126</td><td>0.439</td><td>63364</td></tr><tr><td>GASOLINA ADITIVADA</td><td>RAIZEN</td><td>6.145</td><td>0.734</td><td>121167</td></tr><tr><td>GASOLINA ADITIVADA</td><td>ALE</td><td>6.202</td><td>0.316</td><td>2756</td></tr><tr><td>GASOLINA ADITIVADA</td><td>SABBÃ</td><td>6.205</td><td>0.838</td><td>8067</td></tr><tr><td>GASOLINA ADITIVADA</td><td>VIBRA ENERGIA</td><td>6.247</td><td>0.85</td><td>93579</td></tr><tr><td>GASOLINA ADITIVADA</td><td>SP</td><td>6.263</td><td>0.75</td><td>1912</td></tr><tr><td>GASOLINA ADITIVADA</td><td>EQUADOR</td><td>6.379</td><td>0.82</td><td>2112</td></tr><tr><td>GASOLINA ADITIVADA</td><td>SABBÁ</td><td>6.566</td><td>0.444</td><td>1091</td></tr></tbody></table></div>"
      ]
     },
     "metadata": {
      "application/vnd.databricks.v1+output": {
       "addedWidgets": {},
       "aggData": [],
       "aggError": "",
       "aggOverflow": false,
       "aggSchema": [],
       "aggSeriesLimitReached": false,
       "aggType": "",
       "arguments": {},
       "columnCustomDisplayInfos": {},
       "data": [
        [
         "GASOLINA ADITIVADA",
         "PETROBRAS DISTRIBUIDORA S.A.",
         4.846,
         0.374,
         7479
        ],
        [
         "GASOLINA ADITIVADA",
         "STANG",
         5.765,
         0.615,
         1705
        ],
        [
         "GASOLINA ADITIVADA",
         "BRANCA",
         5.904,
         0.76,
         205964
        ],
        [
         "GASOLINA ADITIVADA",
         "ALESAT",
         5.973,
         0.744,
         14222
        ],
        [
         "GASOLINA ADITIVADA",
         "MAXSUL",
         5.986,
         0.651,
         1045
        ],
        [
         "GASOLINA ADITIVADA",
         "IPIRANGA",
         6.059,
         0.706,
         150038
        ],
        [
         "GASOLINA ADITIVADA",
         "CHARRUA",
         6.079,
         0.572,
         1928
        ],
        [
         "GASOLINA ADITIVADA",
         "RAIZEN MIME",
         6.082,
         0.673,
         3487
        ],
        [
         "GASOLINA ADITIVADA",
         "RODOIL",
         6.099,
         0.687,
         3796
        ],
        [
         "GASOLINA ADITIVADA",
         "DISLUB",
         6.105,
         0.723,
         1244
        ],
        [
         "GASOLINA ADITIVADA",
         "ATEM' S",
         6.106,
         0.912,
         3626
        ],
        [
         "GASOLINA ADITIVADA",
         "VIBRA",
         6.126,
         0.439,
         63364
        ],
        [
         "GASOLINA ADITIVADA",
         "RAIZEN",
         6.145,
         0.734,
         121167
        ],
        [
         "GASOLINA ADITIVADA",
         "ALE",
         6.202,
         0.316,
         2756
        ],
        [
         "GASOLINA ADITIVADA",
         "SABBÃ",
         6.205,
         0.838,
         8067
        ],
        [
         "GASOLINA ADITIVADA",
         "VIBRA ENERGIA",
         6.247,
         0.85,
         93579
        ],
        [
         "GASOLINA ADITIVADA",
         "SP",
         6.263,
         0.75,
         1912
        ],
        [
         "GASOLINA ADITIVADA",
         "EQUADOR",
         6.379,
         0.82,
         2112
        ],
        [
         "GASOLINA ADITIVADA",
         "SABBÁ",
         6.566,
         0.444,
         1091
        ]
       ],
       "datasetInfos": [],
       "dbfsResultPath": null,
       "isJsonSchema": true,
       "metadata": {},
       "overflow": false,
       "plotOptions": {
        "customPlotOptions": {},
        "displayType": "table",
        "pivotAggregation": null,
        "pivotColumns": null,
        "xColumns": null,
        "yColumns": null
       },
       "removedWidgets": [],
       "schema": [
        {
         "metadata": "{}",
         "name": "Produto",
         "type": "\"string\""
        },
        {
         "metadata": "{}",
         "name": "Bandeira",
         "type": "\"string\""
        },
        {
         "metadata": "{}",
         "name": "media_preco",
         "type": "\"double\""
        },
        {
         "metadata": "{}",
         "name": "desvio_preco",
         "type": "\"double\""
        },
        {
         "metadata": "{}",
         "name": "total_pontos",
         "type": "\"long\""
        }
       ],
       "type": "table"
      }
     },
     "output_type": "display_data"
    },
    {
     "output_type": "display_data",
     "data": {
      "text/html": [
       "<style scoped>\n",
       "  .table-result-container {\n",
       "    max-height: 300px;\n",
       "    overflow: auto;\n",
       "  }\n",
       "  table, th, td {\n",
       "    border: 1px solid black;\n",
       "    border-collapse: collapse;\n",
       "  }\n",
       "  th, td {\n",
       "    padding: 5px;\n",
       "  }\n",
       "  th {\n",
       "    text-align: left;\n",
       "  }\n",
       "</style><div class='table-result-container'><table class='table-result'><thead style='background-color: white'><tr><th>Produto</th><th>Bandeira</th><th>media_preco</th><th>desvio_preco</th><th>total_pontos</th></tr></thead><tbody><tr><td>GNV</td><td>COSAN LUBRIFICANTES</td><td>1.906</td><td>0.178</td><td>1959</td></tr><tr><td>GNV</td><td>PETROBRAS DISTRIBUIDORA S.A.</td><td>2.497</td><td>0.57</td><td>36413</td></tr><tr><td>GNV</td><td>DISLUB</td><td>2.585</td><td>0.912</td><td>1239</td></tr><tr><td>GNV</td><td>RAIZEN</td><td>3.235</td><td>1.139</td><td>34098</td></tr><tr><td>GNV</td><td>ALESAT</td><td>3.271</td><td>1.173</td><td>5806</td></tr><tr><td>GNV</td><td>IPIRANGA</td><td>3.281</td><td>1.256</td><td>31219</td></tr><tr><td>GNV</td><td>BRANCA</td><td>3.33</td><td>1.286</td><td>49619</td></tr><tr><td>GNV</td><td>RAIZEN MIME</td><td>3.784</td><td>1.329</td><td>1136</td></tr><tr><td>GNV</td><td>VIBRA ENERGIA</td><td>4.561</td><td>0.73</td><td>11926</td></tr><tr><td>GNV</td><td>VIBRA</td><td>4.691</td><td>0.462</td><td>8118</td></tr></tbody></table></div>"
      ]
     },
     "metadata": {
      "application/vnd.databricks.v1+output": {
       "addedWidgets": {},
       "aggData": [],
       "aggError": "",
       "aggOverflow": false,
       "aggSchema": [],
       "aggSeriesLimitReached": false,
       "aggType": "",
       "arguments": {},
       "columnCustomDisplayInfos": {},
       "data": [
        [
         "GNV",
         "COSAN LUBRIFICANTES",
         1.906,
         0.178,
         1959
        ],
        [
         "GNV",
         "PETROBRAS DISTRIBUIDORA S.A.",
         2.497,
         0.57,
         36413
        ],
        [
         "GNV",
         "DISLUB",
         2.585,
         0.912,
         1239
        ],
        [
         "GNV",
         "RAIZEN",
         3.235,
         1.139,
         34098
        ],
        [
         "GNV",
         "ALESAT",
         3.271,
         1.173,
         5806
        ],
        [
         "GNV",
         "IPIRANGA",
         3.281,
         1.256,
         31219
        ],
        [
         "GNV",
         "BRANCA",
         3.33,
         1.286,
         49619
        ],
        [
         "GNV",
         "RAIZEN MIME",
         3.784,
         1.329,
         1136
        ],
        [
         "GNV",
         "VIBRA ENERGIA",
         4.561,
         0.73,
         11926
        ],
        [
         "GNV",
         "VIBRA",
         4.691,
         0.462,
         8118
        ]
       ],
       "datasetInfos": [],
       "dbfsResultPath": null,
       "isJsonSchema": true,
       "metadata": {},
       "overflow": false,
       "plotOptions": {
        "customPlotOptions": {},
        "displayType": "table",
        "pivotAggregation": null,
        "pivotColumns": null,
        "xColumns": null,
        "yColumns": null
       },
       "removedWidgets": [],
       "schema": [
        {
         "metadata": "{}",
         "name": "Produto",
         "type": "\"string\""
        },
        {
         "metadata": "{}",
         "name": "Bandeira",
         "type": "\"string\""
        },
        {
         "metadata": "{}",
         "name": "media_preco",
         "type": "\"double\""
        },
        {
         "metadata": "{}",
         "name": "desvio_preco",
         "type": "\"double\""
        },
        {
         "metadata": "{}",
         "name": "total_pontos",
         "type": "\"long\""
        }
       ],
       "type": "table"
      }
     },
     "output_type": "display_data"
    }
   ],
   "source": [
    "## 7. Comparação de Preços entre as Bandeiras\n",
    "\n",
    "df_bandeira = df_limpo.groupby([\"Produto\", \"Bandeira\"])[\"Valor de Venda\"].agg(\n",
    "    media_preco=\"mean\",\n",
    "    desvio_preco=\"std\",\n",
    "    total_pontos=\"count\"\n",
    ").reset_index()\n",
    "\n",
    "df_bandeira[\"media_preco\"] = df_bandeira[\"media_preco\"].round(3)\n",
    "df_bandeira[\"desvio_preco\"] = df_bandeira[\"desvio_preco\"].round(3)\n",
    "\n",
    "df_bandeira = df_bandeira[df_bandeira[\"total_pontos\"] >= 1000]\n",
    "\n",
    "produtos = df_bandeira[\"Produto\"].unique()\n",
    "\n",
    "for produto in produtos:\n",
    "    tabela = df_bandeira[df_bandeira[\"Produto\"] == produto].sort_values(\"media_preco\")\n",
    "    display(tabela)\n"
   ]
  },
  {
   "cell_type": "code",
   "execution_count": 0,
   "metadata": {
    "application/vnd.databricks.v1+cell": {
     "cellMetadata": {
      "byteLimit": 2048000,
      "rowLimit": 10000
     },
     "inputWidgets": {},
     "nuid": "f89e35a0-f983-43c6-9726-41c956d7e961",
     "showTitle": false,
     "tableResultSettingsMap": {},
     "title": ""
    }
   },
   "outputs": [
    {
     "output_type": "stream",
     "name": "stderr",
     "output_type": "stream",
     "text": [
      "/home/spark-88f0f9dc-826f-4cbe-a6d0-b3/.ipykernel/2701/command-7904059583141040-239832671:21: UserWarning: Glyph 128202 (\\N{BAR CHART}) missing from current font.\n  plt.tight_layout()\n/databricks/python/lib/python3.11/site-packages/IPython/core/pylabtools.py:170: UserWarning: Glyph 128202 (\\N{BAR CHART}) missing from current font.\n  fig.canvas.print_figure(bytes_io, **kw)\n"
     ]
    },
    {
     "output_type": "display_data",
     "data": {
      "image/png": "[encoded data removed]",
      "text/plain": [
       "<Figure size 1000x600 with 1 Axes>"
      ]
     },
     "metadata": {},
     "output_type": "display_data"
    }
   ],
   "source": [
    "## 8. Relação Etanol / Gasolina ao Longo dos Anos\n",
    "\n",
    "df_combustivel_etanol_gasolina = df_limpo[df_limpo[\"Produto\"].isin([\"GASOLINA\", \"ETANOL\"])]\n",
    "\n",
    "df_medias = df_combustivel_etanol_gasolina.groupby([\"Ano\", \"Produto\"])[\"Valor de Venda\"].mean().unstack()\n",
    "\n",
    "df_medias[\"Relação Etanol/Gasolina\"] = df_medias[\"ETANOL\"] / df_medias[\"GASOLINA\"]\n",
    "\n",
    "import matplotlib.pyplot as plt\n",
    "# Se estiver abaixo de 0,70 o Etanol vale mais a pena\n",
    "\n",
    "plt.figure(figsize=(10, 6))\n",
    "plt.plot(df_medias.index, df_medias[\"Relação Etanol/Gasolina\"], marker=\"o\", label=\"Etanol / Gasolina\")\n",
    "plt.axhline(0.7, color='red', linestyle='--', label=\"Limite Econômico (70%)\")\n",
    "plt.title(\" Relação de Preço: Etanol / Gasolina (2014–2024)\")\n",
    "plt.xlabel(\"Ano\")\n",
    "plt.ylabel(\"Proporção Etanol / Gasolina\")\n",
    "plt.legend()\n",
    "plt.grid(True)\n",
    "plt.tight_layout()\n",
    "plt.show()\n"
   ]
  },
  {
   "cell_type": "code",
   "execution_count": 0,
   "metadata": {
    "application/vnd.databricks.v1+cell": {
     "cellMetadata": {
      "byteLimit": 2048000,
      "rowLimit": 10000
     },
     "inputWidgets": {},
     "nuid": "7d44842c-c8c1-47cd-a474-779c9c8c6565",
     "showTitle": false,
     "tableResultSettingsMap": {},
     "title": ""
    }
   },
   "outputs": [
    {
     "output_type": "display_data",
     "data": {
      "image/png": "[encoded data removed]",
      "text/plain": [
       "<Figure size 1200x600 with 1 Axes>"
      ]
     },
     "metadata": {},
     "output_type": "display_data"
    }
   ],
   "source": [
    "## 8. Tendência Sazonal\n",
    "\n",
    "\n",
    "# Criar colunas de mês e semestre\n",
    "df_limpo[\"Mês\"] = df_limpo[\"Data da Coleta\"].dt.month\n",
    "df_limpo[\"Semestre\"] = df_limpo[\"Mês\"].apply(lambda x: 1 if x <= 6 else 2)\n",
    "\n",
    "# Calcular média por mês e produto\n",
    "df_mensal = df_limpo.groupby([\"Mês\", \"Produto\"])[\"Valor de Venda\"].mean().reset_index()\n",
    "\n",
    "# Plotar\n",
    "import matplotlib.pyplot as plt\n",
    "\n",
    "plt.figure(figsize=(12, 6))\n",
    "for produto in df_mensal[\"Produto\"].unique():\n",
    "    dados = df_mensal[df_mensal[\"Produto\"] == produto]\n",
    "    plt.plot(dados[\"Mês\"], dados[\"Valor de Venda\"], marker=\"o\", label=produto)\n",
    "\n",
    "plt.title(\"Tendência Sazonal: Preço Médio por Mês (2014–2024)\")\n",
    "plt.xlabel(\"Mês\")\n",
    "plt.ylabel(\"Preço Médio (R$)\")\n",
    "plt.xticks(range(1, 13))\n",
    "plt.grid(True)\n",
    "plt.legend()\n",
    "plt.tight_layout()\n",
    "plt.show()\n"
   ]
  },
  {
   "cell_type": "code",
   "execution_count": 0,
   "metadata": {
    "application/vnd.databricks.v1+cell": {
     "cellMetadata": {
      "byteLimit": 2048000,
      "rowLimit": 10000
     },
     "inputWidgets": {},
     "nuid": "b9b356fb-3e17-4f34-bf3b-df60b5734dc7",
     "showTitle": false,
     "tableResultSettingsMap": {},
     "title": ""
    }
   },
   "outputs": [
    {
     "output_type": "display_data",
     "data": {
      "text/html": [
       "<style scoped>\n",
       "  .table-result-container {\n",
       "    max-height: 300px;\n",
       "    overflow: auto;\n",
       "  }\n",
       "  table, th, td {\n",
       "    border: 1px solid black;\n",
       "    border-collapse: collapse;\n",
       "  }\n",
       "  th, td {\n",
       "    padding: 5px;\n",
       "  }\n",
       "  th {\n",
       "    text-align: left;\n",
       "  }\n",
       "</style><div class='table-result-container'><table class='table-result'><thead style='background-color: white'><tr><th>Produto</th><th>Preço em Anos Não-Eleitorais</th><th>Preço em Anos Eleitorais</th><th>Diferença</th></tr></thead><tbody><tr><td>DIESEL</td><td>4.079</td><td>4.376</td><td>0.296</td></tr><tr><td>DIESEL S10</td><td>4.178</td><td>4.49</td><td>0.312</td></tr><tr><td>ETANOL</td><td>3.427</td><td>3.184</td><td>-0.243</td></tr><tr><td>GASOLINA</td><td>4.695</td><td>4.341</td><td>-0.355</td></tr><tr><td>GASOLINA ADITIVADA</td><td>5.768</td><td>5.579</td><td>-0.189</td></tr><tr><td>GNV</td><td>3.331</td><td>3.294</td><td>-0.038</td></tr></tbody></table></div>"
      ]
     },
     "metadata": {
      "application/vnd.databricks.v1+output": {
       "addedWidgets": {},
       "aggData": [],
       "aggError": "",
       "aggOverflow": false,
       "aggSchema": [],
       "aggSeriesLimitReached": false,
       "aggType": "",
       "arguments": {},
       "columnCustomDisplayInfos": {},
       "data": [
        [
         "DIESEL",
         4.079,
         4.376,
         0.296
        ],
        [
         "DIESEL S10",
         4.178,
         4.49,
         0.312
        ],
        [
         "ETANOL",
         3.427,
         3.184,
         -0.243
        ],
        [
         "GASOLINA",
         4.695,
         4.341,
         -0.355
        ],
        [
         "GASOLINA ADITIVADA",
         5.768,
         5.579,
         -0.189
        ],
        [
         "GNV",
         3.331,
         3.294,
         -0.038
        ]
       ],
       "datasetInfos": [],
       "dbfsResultPath": null,
       "isJsonSchema": true,
       "metadata": {},
       "overflow": false,
       "plotOptions": {
        "customPlotOptions": {},
        "displayType": "table",
        "pivotAggregation": null,
        "pivotColumns": null,
        "xColumns": null,
        "yColumns": null
       },
       "removedWidgets": [],
       "schema": [
        {
         "metadata": "{}",
         "name": "Produto",
         "type": "\"string\""
        },
        {
         "metadata": "{}",
         "name": "Preço em Anos Não-Eleitorais",
         "type": "\"double\""
        },
        {
         "metadata": "{}",
         "name": "Preço em Anos Eleitorais",
         "type": "\"double\""
        },
        {
         "metadata": "{}",
         "name": "Diferença",
         "type": "\"double\""
        }
       ],
       "type": "table"
      }
     },
     "output_type": "display_data"
    }
   ],
   "source": [
    "## 9. Efeito das Eleições\n",
    "\n",
    "# Criar colunas de ano e mês\n",
    "df_limpo[\"Ano\"] = df_limpo[\"Data da Coleta\"].dt.year\n",
    "df_limpo[\"Mês\"] = df_limpo[\"Data da Coleta\"].dt.month\n",
    "\n",
    "# Marcar anos eleitorais\n",
    "anos_eleitorais = [2014, 2018, 2022]\n",
    "df_limpo[\"Ano Eleitoral\"] = df_limpo[\"Ano\"].isin(anos_eleitorais)\n",
    "\n",
    "# Filtrar de julho a novembro\n",
    "df_eleicao_periodo = df_limpo[df_limpo[\"Mês\"].between(7, 11)]\n",
    "\n",
    "# Calcular média por ano, produto e se é eleitoral ou não\n",
    "df_analise = df_eleicao_periodo.groupby([\"Ano\", \"Ano Eleitoral\", \"Produto\"])[\"Valor de Venda\"].mean().reset_index()\n",
    "\n",
    "# Calcular a média agrupada só por Produto e se é ano eleitoral ou não\n",
    "df_comparacao = df_analise.groupby([\"Produto\", \"Ano Eleitoral\"])[\"Valor de Venda\"].mean().reset_index()\n",
    "\n",
    "# Pivotar a tabela para facilitar leitura\n",
    "df_tendencia = df_comparacao.pivot(index=\"Produto\", columns=\"Ano Eleitoral\", values=\"Valor de Venda\").reset_index()\n",
    "df_tendencia.columns = [\"Produto\", \"Preço em Anos Não-Eleitorais\", \"Preço em Anos Eleitorais\"]\n",
    "df_tendencia[\"Diferença\"] = df_tendencia[\"Preço em Anos Eleitorais\"] - df_tendencia[\"Preço em Anos Não-Eleitorais\"]\n",
    "\n",
    "# Arredondar\n",
    "df_tendencia = df_tendencia.round(3)\n",
    "\n",
    "# Visualizar\n",
    "display(df_tendencia)\n"
   ]
  },
  {
   "cell_type": "code",
   "execution_count": 0,
   "metadata": {
    "application/vnd.databricks.v1+cell": {
     "cellMetadata": {},
     "inputWidgets": {},
     "nuid": "41fd28bb-504d-4f21-bf08-f8caba270610",
     "showTitle": false,
     "tableResultSettingsMap": {},
     "title": ""
    }
   },
   "outputs": [],
   "source": [
    "## Análise dos Resultados\n",
    "\n",
    "Todas as perguntas definidas no início do projeto foram possíveis de responder com os dados disponíveis. Algumas entregas ficaram dentro do esperado. Porém, reconheço que algumas perguntas tiveram representações que não ficaram tão boas quanto eu gostaria. Em certos casos, os gráficos ou tabelas não transmitiram o que eu imaginava, e isso deixou algumas análises com menos impacto do que eu esperava no início.\n",
    "\n",
    "Apesar disso, o projeto conseguiu cumprir o objetivo geral, e as análises mostram um panorama coerente da evolução dos combustíveis no Brasil.\n"
   ]
  }
 ],
 "metadata": {
  "application/vnd.databricks.v1+notebook": {
   "computePreferences": null,
   "dashboards": [],
   "environmentMetadata": {
    "base_environment": "",
    "environment_version": "2"
   },
   "inputWidgetPreferences": null,
   "language": "python",
   "notebookMetadata": {
    "pythonIndentUnit": 4
   },
   "notebookName": "MVP Engenharia de Dados",
   "widgets": {}
  },
  "language_info": {
   "name": "python"
  }
 },
 "nbformat": 4,
 "nbformat_minor": 0
}